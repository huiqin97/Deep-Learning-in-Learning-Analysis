{
  "nbformat": 4,
  "nbformat_minor": 0,
  "metadata": {
    "colab": {
      "provenance": [],
      "mount_file_id": "1eaX6b4cK94X0Sl2JHXJ6uLqjBu9-UH85",
      "authorship_tag": "ABX9TyMmsCXy4kiUpfmf1+g0Q+fC",
      "include_colab_link": true
    },
    "kernelspec": {
      "name": "python3",
      "display_name": "Python 3"
    },
    "language_info": {
      "name": "python"
    }
  },
  "cells": [
    {
      "cell_type": "markdown",
      "metadata": {
        "id": "view-in-github",
        "colab_type": "text"
      },
      "source": [
        "<a href=\"https://colab.research.google.com/github/huiqin97/Deep-Learning-in-Learning-Analysis/blob/main/FYP_LSTM_V3.ipynb\" target=\"_parent\"><img src=\"https://colab.research.google.com/assets/colab-badge.svg\" alt=\"Open In Colab\"/></a>"
      ]
    },
    {
      "cell_type": "code",
      "execution_count": 1,
      "metadata": {
        "id": "swL28MVkVZAT"
      },
      "outputs": [],
      "source": [
        "import pandas as pd\n",
        "import matplotlib.pyplot as plt\n",
        "import numpy as np\n",
        "import pickle"
      ]
    },
    {
      "cell_type": "code",
      "source": [
        "stInfo  = pd.read_csv('https://raw.githubusercontent.com/huiqin97/Deep-Learning-in-Learning-Analysis/main/studentInfo.csv')\n",
        "stVLE  = pd.read_csv('/content/drive/MyDrive/studentVle.csv')\n",
        "VLE  = pd.read_csv('https://raw.githubusercontent.com/huiqin97/Deep-Learning-in-Learning-Analysis/main/vle.csv')\n",
        "# df_assessment = pd.read_csv('https://raw.githubusercontent.com/huiqin97/Deep-Learning-in-Learning-Analysis/main/assessments.csv')\n",
        "stAss  = pd.read_csv('https://raw.githubusercontent.com/huiqin97/Deep-Learning-in-Learning-Analysis/main/studentAssessment.csv')\n",
        "# df_course_details = pd.read_csv('https://raw.githubusercontent.com/huiqin97/Deep-Learning-in-Learning-Analysis/main/courses.csv')\n",
        "stReg  =  pd.read_csv('https://raw.githubusercontent.com/huiqin97/Deep-Learning-in-Learning-Analysis/main/studentRegistration.csv')"
      ],
      "metadata": {
        "id": "qHX274A5YBZb"
      },
      "execution_count": 2,
      "outputs": []
    },
    {
      "cell_type": "markdown",
      "source": [
        "Check the students' final result"
      ],
      "metadata": {
        "id": "XjxTPgm9YRPS"
      }
    },
    {
      "cell_type": "code",
      "source": [
        "stInfo.info()"
      ],
      "metadata": {
        "colab": {
          "base_uri": "https://localhost:8080/"
        },
        "id": "yBKRHTlnZOC-",
        "outputId": "d8fb5b6f-113d-4485-dd98-0854b9a20d9c"
      },
      "execution_count": 3,
      "outputs": [
        {
          "output_type": "stream",
          "name": "stdout",
          "text": [
            "<class 'pandas.core.frame.DataFrame'>\n",
            "RangeIndex: 32593 entries, 0 to 32592\n",
            "Data columns (total 12 columns):\n",
            " #   Column                Non-Null Count  Dtype \n",
            "---  ------                --------------  ----- \n",
            " 0   code_module           32593 non-null  object\n",
            " 1   code_presentation     32593 non-null  object\n",
            " 2   id_student            32593 non-null  int64 \n",
            " 3   gender                32593 non-null  object\n",
            " 4   region                32593 non-null  object\n",
            " 5   highest_education     32593 non-null  object\n",
            " 6   imd_band              31482 non-null  object\n",
            " 7   age_band              32593 non-null  object\n",
            " 8   num_of_prev_attempts  32593 non-null  int64 \n",
            " 9   studied_credits       32593 non-null  int64 \n",
            " 10  disability            32593 non-null  object\n",
            " 11  final_result          32593 non-null  object\n",
            "dtypes: int64(3), object(9)\n",
            "memory usage: 3.0+ MB\n"
          ]
        }
      ]
    },
    {
      "cell_type": "code",
      "source": [
        "stInfo_update = stInfo[(stInfo['final_result'] =='Pass') | (stInfo['final_result'] =='Distinction')\n",
        "                       | (stInfo['final_result'] =='Fail') ] "
      ],
      "metadata": {
        "id": "pCUdLTX6YN8j"
      },
      "execution_count": 4,
      "outputs": []
    },
    {
      "cell_type": "code",
      "source": [
        "stInfo_update.info()"
      ],
      "metadata": {
        "colab": {
          "base_uri": "https://localhost:8080/"
        },
        "id": "GswT3zMuYt7l",
        "outputId": "dd2971e0-bd88-4678-d705-7d45295183f4"
      },
      "execution_count": 5,
      "outputs": [
        {
          "output_type": "stream",
          "name": "stdout",
          "text": [
            "<class 'pandas.core.frame.DataFrame'>\n",
            "Int64Index: 22437 entries, 0 to 32592\n",
            "Data columns (total 12 columns):\n",
            " #   Column                Non-Null Count  Dtype \n",
            "---  ------                --------------  ----- \n",
            " 0   code_module           22437 non-null  object\n",
            " 1   code_presentation     22437 non-null  object\n",
            " 2   id_student            22437 non-null  int64 \n",
            " 3   gender                22437 non-null  object\n",
            " 4   region                22437 non-null  object\n",
            " 5   highest_education     22437 non-null  object\n",
            " 6   imd_band              21562 non-null  object\n",
            " 7   age_band              22437 non-null  object\n",
            " 8   num_of_prev_attempts  22437 non-null  int64 \n",
            " 9   studied_credits       22437 non-null  int64 \n",
            " 10  disability            22437 non-null  object\n",
            " 11  final_result          22437 non-null  object\n",
            "dtypes: int64(3), object(9)\n",
            "memory usage: 2.2+ MB\n"
          ]
        }
      ]
    },
    {
      "cell_type": "code",
      "source": [
        "stVLE.info()"
      ],
      "metadata": {
        "colab": {
          "base_uri": "https://localhost:8080/"
        },
        "id": "ybXtojTNaNzE",
        "outputId": "8ae3fbbf-cc7a-469c-f692-de8be1f88342"
      },
      "execution_count": 6,
      "outputs": [
        {
          "output_type": "stream",
          "name": "stdout",
          "text": [
            "<class 'pandas.core.frame.DataFrame'>\n",
            "RangeIndex: 10655280 entries, 0 to 10655279\n",
            "Data columns (total 6 columns):\n",
            " #   Column             Dtype \n",
            "---  ------             ----- \n",
            " 0   code_module        object\n",
            " 1   code_presentation  object\n",
            " 2   id_student         int64 \n",
            " 3   id_site            int64 \n",
            " 4   date               int64 \n",
            " 5   sum_click          int64 \n",
            "dtypes: int64(4), object(2)\n",
            "memory usage: 487.8+ MB\n"
          ]
        }
      ]
    },
    {
      "cell_type": "code",
      "source": [
        "stVLE_update = stVLE[stVLE['date']>=0]\n",
        "stVLE_update.info()"
      ],
      "metadata": {
        "colab": {
          "base_uri": "https://localhost:8080/"
        },
        "id": "FzQd7eS5ZWQR",
        "outputId": "85abed3a-9ba1-46e6-9c36-b7844ab031d6"
      },
      "execution_count": 7,
      "outputs": [
        {
          "output_type": "stream",
          "name": "stdout",
          "text": [
            "<class 'pandas.core.frame.DataFrame'>\n",
            "Int64Index: 9966292 entries, 10847 to 10655279\n",
            "Data columns (total 6 columns):\n",
            " #   Column             Dtype \n",
            "---  ------             ----- \n",
            " 0   code_module        object\n",
            " 1   code_presentation  object\n",
            " 2   id_student         int64 \n",
            " 3   id_site            int64 \n",
            " 4   date               int64 \n",
            " 5   sum_click          int64 \n",
            "dtypes: int64(4), object(2)\n",
            "memory usage: 532.3+ MB\n"
          ]
        }
      ]
    },
    {
      "cell_type": "markdown",
      "source": [
        "Create dictionary for VLE activity"
      ],
      "metadata": {
        "id": "-vD5zeS0a-WO"
      }
    },
    {
      "cell_type": "code",
      "source": [
        "courses = stInfo_update['code_module'].unique()\n",
        "print(courses)\n"
      ],
      "metadata": {
        "colab": {
          "base_uri": "https://localhost:8080/"
        },
        "id": "_CUvq5kxbI_t",
        "outputId": "6e67941c-816d-4483-ba38-2271e07078fb"
      },
      "execution_count": 12,
      "outputs": [
        {
          "output_type": "stream",
          "name": "stdout",
          "text": [
            "['AAA' 'BBB' 'CCC' 'DDD' 'EEE' 'FFF' 'GGG']\n"
          ]
        }
      ]
    },
    {
      "cell_type": "code",
      "source": [
        "dic_site_acitivity = {v:k for v, k in zip(VLE['id_site'], VLE['activity_type'])}\n",
        "actions_len = len(VLE['activity_type'].unique())\n",
        "\n",
        "actions_dic = VLE['activity_type'].unique().tolist()\n",
        "\n",
        "actions_dic = {v: k for k, v in enumerate(actions_dic)}\n",
        "dic_acitivity_idx = {v:k for v, k in actions_dic.items()}\n",
        "\n",
        "print(dic_site_acitivity)\n",
        "print('\\n')\n",
        "print(dic_acitivity_idx)"
      ],
      "metadata": {
        "colab": {
          "base_uri": "https://localhost:8080/"
        },
        "id": "PgiJfRFgbTec",
        "outputId": "636b2660-089d-4cc6-eb3f-15db6f2b0fa7"
      },
      "execution_count": 9,
      "outputs": [
        {
          "output_type": "stream",
          "name": "stdout",
          "text": [
            "{546943: 'resource', 546712: 'oucontent', 546998: 'resource', 546888: 'url', 547035: 'resource', 546614: 'homepage', 546897: 'url', 546678: 'oucontent', 546933: 'resource', 546708: 'oucontent', 546995: 'resource', 546884: 'url', 547031: 'resource', 546891: 'url', 546675: 'oucontent', 546927: 'resource', 546705: 'oucontent', 546991: 'resource', 546876: 'subpage', 547027: 'resource', 546671: 'oucontent', 546923: 'resource', 546702: 'oucontent', 546988: 'resource', 546872: 'subpage', 547024: 'resource', 546668: 'oucontent', 546920: 'resource', 546699: 'oucontent', 546985: 'resource', 546739: 'oucontent', 547021: 'resource', 546665: 'oucontent', 546917: 'resource', 546695: 'oucontent', 546982: 'resource', 546736: 'oucontent', 547018: 'resource', 546661: 'glossary', 546692: 'oucontent', 546972: 'resource', 546733: 'oucontent', 547014: 'resource', 546658: 'forumng', 546914: 'resource', 546689: 'oucontent', 546968: 'resource', 546728: 'oucontent', 547011: 'resource', 547066: 'oucollaborate', 546655: 'forumng', 546910: 'resource', 546686: 'oucontent', 546961: 'resource', 546723: 'oucontent', 547007: 'resource', 547048: 'dataplus', 546652: 'forumng', 546906: 'resource', 546954: 'resource', 546717: 'oucontent', 547004: 'resource', 547042: 'resource', 546649: 'forumng', 546903: 'url', 546683: 'oucontent', 546948: 'resource', 546714: 'oucontent', 547001: 'resource', 547037: 'resource', 546645: 'forumng', 546899: 'url', 546680: 'oucontent', 546942: 'resource', 546711: 'oucontent', 546997: 'resource', 546887: 'url', 547034: 'resource', 546896: 'url', 546677: 'oucontent', 546930: 'resource', 546707: 'oucontent', 546994: 'resource', 546883: 'url', 547030: 'resource', 546890: 'url', 546674: 'oucontent', 546925: 'resource', 546704: 'oucontent', 546990: 'resource', 546874: 'subpage', 547026: 'resource', 546670: 'oucontent', 546922: 'resource', 546701: 'oucontent', 546987: 'resource', 546871: 'subpage', 547023: 'resource', 546667: 'oucontent', 546919: 'resource', 546697: 'oucontent', 546984: 'resource', 546738: 'oucontent', 547020: 'resource', 546664: 'oucontent', 546694: 'oucontent', 546975: 'resource', 546735: 'oucontent', 547017: 'resource', 546660: 'glossary', 546916: 'resource', 546691: 'oucontent', 546971: 'resource', 546732: 'oucontent', 547013: 'resource', 546657: 'forumng', 546913: 'resource', 546688: 'oucontent', 546966: 'resource', 546726: 'oucontent', 547009: 'resource', 547050: 'dataplus', 546654: 'forumng', 546909: 'resource', 546685: 'oucontent', 546960: 'resource', 546721: 'oucontent', 547006: 'resource', 547047: 'dataplus', 546651: 'forumng', 546905: 'url', 546952: 'resource', 546716: 'oucontent', 547003: 'resource', 547040: 'resource', 546648: 'forumng', 546901: 'url', 546682: 'oucontent', 546947: 'resource', 546713: 'oucontent', 547000: 'resource', 546889: 'url', 547036: 'resource', 546644: 'forumng', 546898: 'url', 546679: 'oucontent', 546935: 'resource', 546709: 'oucontent', 546996: 'resource', 546885: 'url', 547032: 'resource', 546894: 'url', 546676: 'oucontent', 546928: 'resource', 546706: 'oucontent', 546992: 'resource', 546879: 'subpage', 547028: 'resource', 546672: 'oucontent', 546924: 'resource', 546703: 'oucontent', 546989: 'resource', 546873: 'subpage', 547025: 'resource', 546669: 'oucontent', 546921: 'resource', 546700: 'oucontent', 546986: 'resource', 546740: 'oucontent', 547022: 'resource', 546666: 'oucontent', 546918: 'resource', 546696: 'oucontent', 546983: 'resource', 546737: 'oucontent', 547019: 'resource', 546662: 'oucontent', 546693: 'oucontent', 546974: 'resource', 546734: 'oucontent', 547015: 'resource', 546659: 'forumng', 546915: 'resource', 546690: 'oucontent', 546970: 'resource', 546731: 'oucontent', 547012: 'resource', 547067: 'oucollaborate', 546656: 'forumng', 546911: 'resource', 546687: 'oucontent', 546965: 'resource', 546725: 'oucontent', 547008: 'resource', 547049: 'dataplus', 546653: 'forumng', 546907: 'resource', 546955: 'resource', 546719: 'oucontent', 547005: 'resource', 547043: 'resource', 546650: 'forumng', 546904: 'url', 546684: 'oucontent', 546949: 'resource', 546715: 'oucontent', 547002: 'resource', 547038: 'resource', 546647: 'forumng', 546900: 'url', 546681: 'oucontent', 877162: 'resource', 877223: 'resource', 877032: 'oucontent', 877263: 'resource', 877064: 'oucontent', 877098: 'oucontent', 877157: 'resource', 877220: 'resource', 877029: 'glossary', 877260: 'resource', 877061: 'oucontent', 1032910: 'url', 877094: 'oucontent', 877154: 'resource', 877217: 'resource', 877025: 'forumng', 877256: 'resource', 877058: 'oucontent', 877423: 'dataplus', 877091: 'oucontent', 877151: 'resource', 877214: 'resource', 877012: 'forumng', 877253: 'resource', 877055: 'oucontent', 877420: 'dataplus', 877088: 'oucontent', 877148: 'resource', 877211: 'resource', 877247: 'resource', 877052: 'oucontent', 877402: 'url', 877085: 'oucontent', 877145: 'resource', 877208: 'resource', 877244: 'resource', 877049: 'oucontent', 877397: 'url', 877081: 'oucontent', 877142: 'resource', 877203: 'resource', 877241: 'resource', 877046: 'oucontent', 877394: 'url', 877078: 'oucontent', 877197: 'resource', 877237: 'resource', 877043: 'oucontent', 877387: 'url', 877075: 'oucontent', 877139: 'resource', 877190: 'resource', 877233: 'resource', 877040: 'oucontent', 877384: 'url', 877072: 'oucontent', 877135: 'subpage', 877184: 'resource', 877229: 'resource', 877037: 'oucontent', 877380: 'oucollaborate', 877069: 'oucontent', 877132: 'subpage', 877172: 'resource', 877225: 'resource', 877034: 'oucontent', 877265: 'resource', 877066: 'oucontent', 877100: 'oucontent', 877159: 'resource', 877222: 'resource', 877031: 'oucontent', 877262: 'resource', 877063: 'oucontent', 1072237: 'url', 877096: 'oucontent', 877156: 'resource', 877219: 'resource', 877028: 'glossary', 877259: 'resource', 877060: 'oucontent', 1027118: 'url', 877093: 'oucontent', 877153: 'resource', 877216: 'resource', 877023: 'forumng', 877255: 'resource', 877057: 'oucontent', 877422: 'dataplus', 877090: 'oucontent', 877150: 'resource', 877213: 'resource', 877011: 'forumng', 877252: 'resource', 877054: 'oucontent', 877404: 'url', 877087: 'oucontent', 877147: 'resource', 877210: 'resource', 877246: 'resource', 877051: 'oucontent', 877399: 'url', 877084: 'oucontent', 877144: 'resource', 877207: 'resource', 877243: 'resource', 877048: 'oucontent', 877396: 'url', 877080: 'oucontent', 877141: 'resource', 877199: 'resource', 877240: 'resource', 877045: 'oucontent', 877393: 'url', 877077: 'oucontent', 877196: 'resource', 877236: 'resource', 877042: 'oucontent', 877386: 'url', 877074: 'oucontent', 877138: 'resource', 877187: 'resource', 877231: 'resource', 877039: 'oucontent', 877383: 'url', 877071: 'oucontent', 877134: 'subpage', 877182: 'resource', 877228: 'resource', 877036: 'oucontent', 877379: 'oucollaborate', 877068: 'oucontent', 877129: 'subpage', 877168: 'resource', 877224: 'resource', 877033: 'oucontent', 877264: 'resource', 877065: 'oucontent', 877099: 'oucontent', 877158: 'resource', 877221: 'resource', 877030: 'homepage', 877261: 'resource', 877062: 'oucontent', 1072236: 'resource', 877095: 'oucontent', 877155: 'resource', 877218: 'resource', 877026: 'forumng', 877258: 'resource', 877059: 'oucontent', 1010323: 'resource', 877092: 'oucontent', 877152: 'resource', 877215: 'resource', 877015: 'forumng', 877254: 'resource', 877056: 'oucontent', 877421: 'dataplus', 877089: 'oucontent', 877149: 'resource', 877212: 'resource', 877248: 'resource', 877053: 'oucontent', 877403: 'url', 877086: 'oucontent', 877146: 'resource', 877209: 'resource', 877245: 'resource', 877050: 'oucontent', 877398: 'url', 877082: 'oucontent', 877143: 'resource', 877206: 'resource', 877242: 'resource', 877047: 'oucontent', 877395: 'url', 877079: 'oucontent', 877198: 'resource', 877238: 'resource', 877044: 'oucontent', 877392: 'url', 877076: 'oucontent', 877140: 'resource', 877195: 'resource', 877234: 'resource', 877041: 'oucontent', 877385: 'url', 877073: 'oucontent', 877137: 'resource', 877186: 'resource', 877230: 'resource', 877038: 'oucontent', 877381: 'url', 877070: 'oucontent', 877133: 'subpage', 877180: 'resource', 877227: 'resource', 877035: 'oucontent', 877266: 'resource', 877067: 'oucontent', 877128: 'subpage', 543306: 'resource', 542803: 'forumng', 543170: 'resource', 543040: 'subpage', 543202: 'resource', 543074: 'subpage', 543236: 'resource', 543106: 'resource', 543274: 'resource', 543138: 'resource', 542799: 'forumng', 543167: 'resource', 543037: 'url', 543199: 'resource', 543071: 'subpage', 543233: 'resource', 543103: 'resource', 543271: 'resource', 543135: 'resource', 543303: 'resource', 542796: 'forumng', 543164: 'resource', 543031: 'url', 543196: 'resource', 543067: 'subpage', 543230: 'resource', 543100: 'resource', 543268: 'resource', 543132: 'resource', 543300: 'resource', 542792: 'forumng', 543161: 'resource', 543027: 'url', 543193: 'resource', 543063: 'subpage', 543227: 'resource', 543097: 'resource', 543259: 'resource', 543265: 'resource', 543129: 'resource', 543297: 'resource', 543158: 'resource', 543024: 'url', 543190: 'resource', 543060: 'subpage', 543224: 'resource', 543094: 'resource', 543256: 'resource', 543262: 'resource', 543126: 'resource', 543294: 'resource', 543155: 'resource', 543021: 'url', 543187: 'resource', 543057: 'subpage', 543221: 'resource', 543091: 'resource', 543253: 'resource', 543123: 'resource', 543291: 'resource', 543152: 'resource', 542894: 'quiz', 543184: 'resource', 543054: 'subpage', 543217: 'resource', 543088: 'resource', 543250: 'resource', 543120: 'resource', 543288: 'resource', 543324: 'ouelluminate', 542891: 'quiz', 543181: 'resource', 543051: 'subpage', 543213: 'resource', 543085: 'resource', 543247: 'resource', 543117: 'resource', 543285: 'resource', 543149: 'resource', 543314: 'resource', 542812: 'glossary', 543178: 'resource', 543048: 'subpage', 543210: 'resource', 543082: 'resource', 543244: 'resource', 543114: 'resource', 543282: 'resource', 543146: 'resource', 543311: 'resource', 542808: 'forumng', 543175: 'resource', 543045: 'subpage', 543207: 'resource', 543079: 'resource', 543241: 'resource', 543111: 'resource', 543279: 'resource', 543143: 'resource', 543308: 'resource', 542805: 'forumng', 543172: 'resource', 543042: 'subpage', 543204: 'resource', 543076: 'subpage', 543238: 'resource', 543108: 'resource', 543276: 'resource', 543140: 'resource', 542802: 'forumng', 543169: 'resource', 543039: 'subpage', 543201: 'resource', 543073: 'subpage', 543235: 'resource', 543105: 'resource', 543273: 'resource', 543137: 'resource', 543305: 'resource', 542798: 'forumng', 543166: 'resource', 543036: 'url', 543198: 'resource', 543069: 'subpage', 543232: 'resource', 543102: 'resource', 543270: 'resource', 543134: 'resource', 543302: 'resource', 542795: 'forumng', 543163: 'resource', 543029: 'url', 543195: 'resource', 543066: 'subpage', 543229: 'resource', 543099: 'resource', 543261: 'resource', 543267: 'resource', 543131: 'resource', 543299: 'resource', 543160: 'resource', 543026: 'url', 543192: 'resource', 543062: 'subpage', 543226: 'resource', 543096: 'resource', 543258: 'resource', 543264: 'resource', 543128: 'resource', 543296: 'resource', 543157: 'resource', 543023: 'url', 543189: 'resource', 543059: 'subpage', 543223: 'resource', 543093: 'resource', 543255: 'resource', 543125: 'resource', 543293: 'resource', 543154: 'resource', 543020: 'url', 543186: 'resource', 543056: 'subpage', 543220: 'resource', 543090: 'resource', 543252: 'resource', 543122: 'resource', 543290: 'resource', 542893: 'quiz', 543183: 'resource', 543053: 'subpage', 543215: 'resource', 543087: 'resource', 543249: 'resource', 543119: 'resource', 543287: 'resource', 543151: 'resource', 543322: 'sharedsubpage', 542889: 'oucontent', 543180: 'resource', 543050: 'subpage', 543212: 'resource', 543084: 'resource', 543246: 'resource', 543116: 'resource', 543284: 'resource', 543148: 'resource', 543313: 'resource', 542811: 'forumng', 543177: 'resource', 543047: 'subpage', 543209: 'resource', 543081: 'resource', 543243: 'resource', 543113: 'resource', 543281: 'resource', 543145: 'resource', 543310: 'resource', 542807: 'forumng', 543174: 'resource', 543044: 'subpage', 543206: 'resource', 543078: 'resource', 543240: 'resource', 543110: 'resource', 543278: 'resource', 543142: 'resource', 543307: 'resource', 542804: 'forumng', 543171: 'resource', 543041: 'subpage', 543203: 'resource', 543075: 'subpage', 543237: 'resource', 543107: 'resource', 543275: 'resource', 543139: 'resource', 542800: 'forumng', 543168: 'resource', 543038: 'url', 543200: 'resource', 543072: 'subpage', 543234: 'resource', 543104: 'resource', 543272: 'resource', 543136: 'resource', 543304: 'resource', 542797: 'forumng', 543165: 'resource', 543032: 'url', 543197: 'resource', 543068: 'subpage', 543231: 'resource', 543101: 'resource', 543269: 'resource', 543133: 'resource', 543301: 'resource', 542794: 'forumng', 543162: 'resource', 543028: 'url', 543194: 'resource', 543065: 'subpage', 543228: 'resource', 543098: 'resource', 543260: 'resource', 543266: 'resource', 543130: 'resource', 543298: 'resource', 543159: 'resource', 543025: 'url', 543191: 'resource', 543061: 'subpage', 543225: 'resource', 543095: 'resource', 543257: 'resource', 543263: 'resource', 543127: 'resource', 543295: 'resource', 543156: 'resource', 543022: 'url', 543188: 'resource', 543058: 'subpage', 543222: 'resource', 543092: 'resource', 543254: 'resource', 543124: 'resource', 543292: 'resource', 543153: 'resource', 542895: 'quiz', 543185: 'resource', 543055: 'subpage', 543218: 'resource', 543089: 'resource', 543251: 'resource', 543121: 'resource', 543289: 'resource', 542892: 'quiz', 543182: 'resource', 543052: 'subpage', 543214: 'resource', 543086: 'resource', 543248: 'resource', 543118: 'resource', 543286: 'resource', 543150: 'resource', 543315: 'resource', 542864: 'homepage', 543179: 'resource', 543049: 'subpage', 543211: 'resource', 543083: 'resource', 543245: 'resource', 543115: 'resource', 543283: 'resource', 543147: 'resource', 543312: 'resource', 542810: 'forumng', 543176: 'resource', 543046: 'subpage', 543208: 'resource', 543080: 'resource', 543242: 'resource', 543112: 'resource', 543280: 'resource', 543144: 'resource', 543309: 'resource', 542806: 'forumng', 543173: 'resource', 543043: 'subpage', 543205: 'resource', 543077: 'subpage', 543239: 'resource', 543109: 'resource', 543277: 'resource', 543141: 'resource', 703732: 'forumng', 704084: 'resource', 703951: 'subpage', 704116: 'resource', 703986: 'resource', 704148: 'resource', 704018: 'resource', 704180: 'resource', 704050: 'resource', 704212: 'resource', 704081: 'resource', 703948: 'subpage', 704113: 'resource', 703983: 'resource', 704145: 'resource', 704015: 'resource', 704177: 'resource', 704047: 'resource', 704209: 'resource', 703729: 'forumng', 704078: 'resource', 703945: 'subpage', 704110: 'resource', 703979: 'resource', 704142: 'resource', 704012: 'resource', 704174: 'resource', 704044: 'resource', 704206: 'resource', 703726: 'forumng', 703942: 'subpage', 704107: 'resource', 703974: 'subpage', 704139: 'resource', 704009: 'resource', 704171: 'resource', 704041: 'resource', 704203: 'resource', 703722: 'forumng', 704075: 'resource', 704238: 'url', 703939: 'subpage', 704104: 'resource', 703971: 'subpage', 704136: 'resource', 704006: 'resource', 704168: 'resource', 704038: 'resource', 704200: 'resource', 704071: 'resource', 703901: 'oucontent', 704101: 'resource', 703968: 'subpage', 704133: 'resource', 704003: 'resource', 704165: 'resource', 704035: 'resource', 704197: 'resource', 704067: 'resource', 704235: 'url', 703897: 'quiz', 704098: 'resource', 703965: 'subpage', 704130: 'resource', 704000: 'resource', 704162: 'resource', 704032: 'resource', 704194: 'resource', 704064: 'resource', 704232: 'url', 703894: 'quiz', 704095: 'resource', 703962: 'subpage', 704127: 'resource', 703997: 'resource', 704159: 'resource', 704029: 'resource', 704191: 'resource', 704061: 'resource', 704228: 'url', 703740: 'forumng', 704092: 'resource', 703959: 'subpage', 704124: 'resource', 703994: 'resource', 704156: 'resource', 704026: 'resource', 704188: 'resource', 704058: 'resource', 704224: 'url', 703737: 'forumng', 704089: 'resource', 703956: 'subpage', 704121: 'resource', 703991: 'resource', 704153: 'resource', 704023: 'resource', 704185: 'resource', 704055: 'resource', 704218: 'resource', 703734: 'forumng', 704086: 'resource', 703953: 'subpage', 704118: 'resource', 703988: 'resource', 704150: 'resource', 704020: 'resource', 704182: 'resource', 704052: 'resource', 704214: 'resource', 704083: 'resource', 703950: 'subpage', 704115: 'resource', 703985: 'resource', 704147: 'resource', 704017: 'resource', 704179: 'resource', 704049: 'resource', 704211: 'resource', 703731: 'forumng', 704080: 'resource', 703947: 'subpage', 704112: 'resource', 703982: 'resource', 704144: 'resource', 704014: 'resource', 704176: 'resource', 704046: 'resource', 704208: 'resource', 703728: 'forumng', 703944: 'subpage', 704109: 'resource', 703977: 'subpage', 704141: 'resource', 704011: 'resource', 704173: 'resource', 704043: 'resource', 704205: 'resource', 703725: 'forumng', 704077: 'resource', 704240: 'url', 703941: 'subpage', 704106: 'resource', 703973: 'subpage', 704138: 'resource', 704008: 'resource', 704170: 'resource', 704040: 'resource', 704202: 'resource', 703721: 'homepage', 704074: 'resource', 703933: 'sharedsubpage', 704103: 'resource', 703970: 'subpage', 704135: 'resource', 704005: 'resource', 704167: 'resource', 704037: 'resource', 704199: 'resource', 704069: 'resource', 704237: 'url', 703900: 'oucontent', 704100: 'resource', 703967: 'subpage', 704132: 'resource', 704002: 'resource', 704164: 'resource', 704034: 'resource', 704196: 'resource', 704066: 'resource', 704234: 'url', 703896: 'quiz', 704097: 'resource', 703964: 'subpage', 704129: 'resource', 703999: 'resource', 704161: 'resource', 704031: 'resource', 704193: 'resource', 704063: 'resource', 704231: 'url', 703742: 'glossary', 704094: 'resource', 703961: 'subpage', 704126: 'resource', 703996: 'resource', 704158: 'resource', 704028: 'resource', 704190: 'resource', 704060: 'resource', 704227: 'url', 703739: 'forumng', 704091: 'resource', 703958: 'subpage', 704123: 'resource', 703993: 'resource', 704155: 'resource', 704025: 'resource', 704187: 'resource', 704057: 'resource', 704222: 'oucollaborate', 703736: 'forumng', 704088: 'resource', 703955: 'subpage', 704120: 'resource', 703990: 'resource', 704152: 'resource', 704022: 'resource', 704184: 'resource', 704054: 'resource', 704217: 'resource', 703733: 'forumng', 704085: 'resource', 703952: 'subpage', 704117: 'resource', 703987: 'resource', 704149: 'resource', 704019: 'resource', 704181: 'resource', 704051: 'resource', 704213: 'resource', 704082: 'resource', 703949: 'subpage', 704114: 'resource', 703984: 'resource', 704146: 'resource', 704016: 'resource', 704178: 'resource', 704048: 'resource', 704210: 'resource', 703730: 'forumng', 704079: 'resource', 703946: 'subpage', 704111: 'resource', 703981: 'resource', 704143: 'resource', 704013: 'resource', 704175: 'resource', 704045: 'resource', 704207: 'resource', 703727: 'forumng', 703943: 'subpage', 704108: 'resource', 703975: 'subpage', 704140: 'resource', 704010: 'resource', 704172: 'resource', 704042: 'resource', 704204: 'resource', 703723: 'forumng', 704076: 'resource', 704239: 'url', 703940: 'subpage', 704105: 'resource', 703972: 'subpage', 704137: 'resource', 704007: 'resource', 704169: 'resource', 704039: 'resource', 704201: 'resource', 704073: 'resource', 703902: 'oucontent', 704102: 'resource', 703969: 'subpage', 704134: 'resource', 704004: 'resource', 704166: 'resource', 704036: 'resource', 704198: 'resource', 704068: 'resource', 704236: 'url', 703898: 'quiz', 704099: 'resource', 703966: 'subpage', 704131: 'resource', 704001: 'resource', 704163: 'resource', 704033: 'resource', 704195: 'resource', 704065: 'resource', 704233: 'url', 703895: 'quiz', 704096: 'resource', 703963: 'subpage', 704128: 'resource', 703998: 'resource', 704160: 'resource', 704030: 'resource', 704192: 'resource', 704062: 'resource', 704229: 'url', 703741: 'forumng', 704093: 'resource', 703960: 'subpage', 704125: 'resource', 703995: 'resource', 704157: 'resource', 704027: 'resource', 704189: 'resource', 704059: 'resource', 704226: 'url', 703738: 'forumng', 704090: 'resource', 703957: 'subpage', 704122: 'resource', 703992: 'resource', 704154: 'resource', 704024: 'resource', 704186: 'resource', 704056: 'resource', 704221: 'oucollaborate', 703735: 'forumng', 704087: 'resource', 703954: 'subpage', 704119: 'resource', 703989: 'resource', 704151: 'resource', 704021: 'resource', 704183: 'resource', 704053: 'resource', 704215: 'resource', 768516: 'resource', 768377: 'quiz', 768549: 'resource', 768417: 'subpage', 768585: 'resource', 768451: 'resource', 768624: 'resource', 768484: 'resource', 768656: 'resource', 768513: 'resource', 768349: 'forumng', 768546: 'resource', 768414: 'subpage', 768582: 'resource', 768448: 'resource', 768615: 'resource', 768621: 'resource', 768481: 'resource', 768653: 'resource', 768786: 'url', 768345: 'forumng', 768543: 'resource', 768411: 'subpage', 768579: 'resource', 768445: 'resource', 768612: 'resource', 768618: 'resource', 768478: 'resource', 768650: 'resource', 768510: 'resource', 768780: 'url', 768341: 'forumng', 768540: 'resource', 768408: 'subpage', 768574: 'resource', 768442: 'resource', 768609: 'resource', 768475: 'resource', 768647: 'resource', 768507: 'resource', 768777: 'url', 768338: 'forumng', 768537: 'resource', 768405: 'subpage', 768571: 'resource', 768439: 'resource', 768606: 'resource', 768472: 'resource', 768644: 'resource', 768504: 'resource', 768774: 'url', 768335: 'forumng', 768534: 'resource', 768402: 'subpage', 768568: 'resource', 768436: 'resource', 768602: 'resource', 768468: 'resource', 768641: 'resource', 768501: 'resource', 768771: 'url', 768332: 'forumng', 768531: 'resource', 768399: 'subpage', 768565: 'resource', 768433: 'resource', 768599: 'resource', 768465: 'resource', 768638: 'resource', 768498: 'resource', 768528: 'resource', 768396: 'subpage', 768561: 'resource', 768430: 'subpage', 768596: 'resource', 768462: 'resource', 768635: 'resource', 768495: 'resource', 768667: 'resource', 768525: 'resource', 768393: 'subpage', 768558: 'resource', 768427: 'subpage', 768593: 'resource', 768459: 'resource', 768632: 'resource', 768492: 'resource', 768664: 'resource', 768522: 'resource', 768382: 'oucontent', 768554: 'resource', 768422: 'subpage', 768590: 'resource', 768456: 'resource', 768629: 'resource', 768489: 'resource', 768661: 'resource', 768518: 'resource', 768379: 'quiz', 768551: 'resource', 768419: 'subpage', 768587: 'resource', 768453: 'resource', 768626: 'resource', 768486: 'resource', 768658: 'resource', 768515: 'resource', 768376: 'quiz', 768548: 'resource', 768416: 'subpage', 768584: 'resource', 768450: 'resource', 768617: 'resource', 768623: 'resource', 768483: 'resource', 768655: 'resource', 768512: 'resource', 768788: 'oucollaborate', 768348: 'forumng', 768545: 'resource', 768413: 'subpage', 768581: 'resource', 768447: 'resource', 768614: 'resource', 768620: 'resource', 768480: 'resource', 768652: 'resource', 768785: 'url', 768344: 'forumng', 768542: 'resource', 768410: 'subpage', 768576: 'resource', 768444: 'resource', 768611: 'resource', 768477: 'resource', 768649: 'resource', 768509: 'resource', 768779: 'url', 768340: 'forumng', 768539: 'resource', 768407: 'subpage', 768573: 'resource', 768441: 'resource', 768608: 'resource', 768474: 'resource', 768646: 'resource', 768506: 'resource', 768776: 'url', 768337: 'forumng', 768536: 'resource', 768404: 'subpage', 768570: 'resource', 768438: 'resource', 768605: 'resource', 768470: 'resource', 768643: 'resource', 768503: 'resource', 768773: 'url', 768334: 'forumng', 768533: 'resource', 768401: 'subpage', 768567: 'resource', 768435: 'resource', 768601: 'resource', 768467: 'resource', 768640: 'resource', 768500: 'resource', 768669: 'resource', 768331: 'forumng', 768530: 'resource', 768398: 'subpage', 768564: 'resource', 768432: 'resource', 768598: 'resource', 768464: 'resource', 768637: 'resource', 768497: 'resource', 768527: 'resource', 768395: 'subpage', 768560: 'resource', 768429: 'subpage', 768595: 'resource', 768461: 'resource', 768634: 'resource', 768494: 'resource', 768666: 'resource', 768524: 'resource', 768391: 'sharedsubpage', 768556: 'resource', 768425: 'subpage', 768592: 'resource', 768458: 'resource', 768631: 'resource', 768491: 'resource', 768663: 'resource', 768521: 'resource', 768381: 'oucontent', 768553: 'resource', 768421: 'subpage', 768589: 'resource', 768455: 'resource', 768628: 'resource', 768488: 'resource', 768660: 'resource', 768517: 'resource', 768378: 'quiz', 768550: 'resource', 768418: 'subpage', 768586: 'resource', 768452: 'resource', 768625: 'resource', 768485: 'resource', 768657: 'resource', 768514: 'resource', 768351: 'homepage', 768547: 'resource', 768415: 'subpage', 768583: 'resource', 768449: 'resource', 768616: 'resource', 768622: 'resource', 768482: 'resource', 768654: 'resource', 768511: 'resource', 768787: 'url', 768346: 'forumng', 768544: 'resource', 768412: 'subpage', 768580: 'resource', 768446: 'resource', 768613: 'resource', 768619: 'resource', 768479: 'resource', 768651: 'resource', 768783: 'url', 768343: 'forumng', 768541: 'resource', 768409: 'subpage', 768575: 'resource', 768443: 'resource', 768610: 'resource', 768476: 'resource', 768648: 'resource', 768508: 'resource', 768778: 'url', 768339: 'forumng', 768538: 'resource', 768406: 'subpage', 768572: 'resource', 768440: 'resource', 768607: 'resource', 768473: 'resource', 768645: 'resource', 768505: 'resource', 768775: 'url', 768336: 'forumng', 768535: 'resource', 768403: 'subpage', 768569: 'resource', 768437: 'resource', 768604: 'resource', 768469: 'resource', 768642: 'resource', 768502: 'resource', 768772: 'url', 768333: 'forumng', 768532: 'resource', 768400: 'subpage', 768566: 'resource', 768434: 'resource', 768600: 'resource', 768466: 'resource', 768639: 'resource', 768499: 'resource', 768330: 'glossary', 768529: 'resource', 768397: 'subpage', 768562: 'resource', 768431: 'subpage', 768597: 'resource', 768463: 'resource', 768636: 'resource', 768496: 'resource', 768668: 'resource', 768526: 'resource', 768394: 'subpage', 768559: 'resource', 768428: 'subpage', 768594: 'resource', 768460: 'resource', 768633: 'resource', 768493: 'resource', 768665: 'resource', 768523: 'resource', 768383: 'oucontent', 768555: 'resource', 768424: 'subpage', 768591: 'resource', 768457: 'resource', 768630: 'resource', 768490: 'resource', 768662: 'resource', 768519: 'resource', 768380: 'quiz', 768552: 'resource', 768420: 'subpage', 768588: 'resource', 768454: 'resource', 768627: 'resource', 768487: 'resource', 768659: 'resource', 913621: 'resource', 913661: 'resource', 913696: 'subpage', 913489: 'oucontent', 937843: 'resource', 913523: 'oucontent', 913618: 'resource', 913652: 'resource', 913693: 'subpage', 913486: 'oucontent', 937840: 'resource', 913520: 'oucontent', 913615: 'resource', 913649: 'resource', 913690: 'subpage', 913483: 'oucontent', 937837: 'resource', 913517: 'oucontent', 913612: 'resource', 913646: 'resource', 913686: 'resource', 913479: 'oucontent', 937834: 'resource', 913514: 'oucontent', 913609: 'resource', 913643: 'resource', 913683: 'resource', 913476: 'oucontent', 937831: 'resource', 913511: 'oucontent', 992243: 'resource', 913606: 'resource', 913640: 'resource', 913680: 'resource', 913473: 'homepage', 926339: 'oucollaborate', 913508: 'oucontent', 989840: 'oucontent', 913603: 'resource', 913635: 'resource', 913677: 'resource', 913465: 'glossary', 926336: 'resource', 913505: 'oucontent', 985230: 'oucontent', 913537: 'oucontent', 913632: 'resource', 913674: 'resource', 926333: 'quiz', 913502: 'oucontent', 957623: 'oucontent', 913629: 'resource', 913670: 'resource', 926330: 'oucontent', 913499: 'oucontent', 951621: 'resource', 913533: 'oucontent', 913626: 'resource', 913667: 'resource', 926327: 'oucontent', 913495: 'oucontent', 946589: 'resource', 949691: 'url', 913528: 'oucontent', 913623: 'resource', 913664: 'resource', 913736: 'oucollaborate', 913491: 'oucontent', 942393: 'quiz', 949688: 'url', 913525: 'oucontent', 913620: 'resource', 913658: 'resource', 913695: 'subpage', 913488: 'oucontent', 937842: 'resource', 913522: 'oucontent', 913617: 'resource', 913651: 'resource', 913692: 'subpage', 913485: 'oucontent', 937839: 'resource', 913519: 'oucontent', 913614: 'resource', 913648: 'resource', 913689: 'subpage', 913482: 'oucontent', 937836: 'resource', 913516: 'oucontent', 913611: 'resource', 913645: 'resource', 913685: 'resource', 913478: 'oucontent', 937833: 'resource', 913513: 'oucontent', 913608: 'resource', 913642: 'resource', 913682: 'resource', 913475: 'oucontent', 937830: 'oucontent', 913510: 'oucontent', 989842: 'questionnaire', 913605: 'resource', 913639: 'resource', 913679: 'resource', 913468: 'forumng', 926338: 'resource', 913507: 'oucontent', 989327: 'questionnaire', 913602: 'resource', 913634: 'resource', 913676: 'resource', 913464: 'glossary', 926335: 'resource', 913504: 'oucontent', 957625: 'resource', 913631: 'resource', 913673: 'resource', 926332: 'oucontent', 913501: 'oucontent', 951623: 'resource', 913535: 'oucontent', 913628: 'resource', 913669: 'resource', 926329: 'oucontent', 913497: 'oucontent', 949687: 'url', 951620: 'resource', 913532: 'oucontent', 913625: 'resource', 913666: 'resource', 926325: 'forumng', 913494: 'oucontent', 946588: 'resource', 949690: 'url', 913527: 'oucontent', 913622: 'resource', 913663: 'resource', 913734: 'oucollaborate', 913490: 'oucontent', 937844: 'resource', 913524: 'oucontent', 913619: 'resource', 913657: 'resource', 913694: 'subpage', 913487: 'oucontent', 937841: 'resource', 913521: 'oucontent', 913616: 'resource', 913650: 'resource', 913691: 'subpage', 913484: 'oucontent', 937838: 'resource', 913518: 'oucontent', 913613: 'resource', 913647: 'resource', 913688: 'subpage', 913481: 'oucontent', 937835: 'resource', 913515: 'oucontent', 913610: 'resource', 913644: 'resource', 913684: 'resource', 913477: 'oucontent', 937832: 'resource', 913512: 'oucontent', 1010038: 'quiz', 913607: 'resource', 913641: 'resource', 913681: 'resource', 913474: 'oucontent', 937829: 'oucontent', 913509: 'oucontent', 989841: 'questionnaire', 913604: 'resource', 913638: 'resource', 913678: 'resource', 913466: 'forumng', 926337: 'resource', 913506: 'oucontent', 987931: 'quiz', 913601: 'resource', 913633: 'resource', 913675: 'resource', 926334: 'resource', 913503: 'oucontent', 957624: 'questionnaire', 913630: 'resource', 913671: 'resource', 926331: 'oucontent', 913500: 'oucontent', 951622: 'resource', 913534: 'oucontent', 913627: 'resource', 913668: 'resource', 926328: 'oucontent', 913496: 'oucontent', 949686: 'subpage', 951619: 'resource', 913530: 'oucontent', 913624: 'resource', 913665: 'resource', 913740: 'url', 913493: 'oucontent', 946094: 'oucontent', 949689: 'url', 913526: 'oucontent', 730032: 'subpage', 730068: 'resource', 729677: 'forumng', 730100: 'resource', 729804: 'oucontent', 923834: 'forumng', 729838: 'oucontent', 730029: 'subpage', 730065: 'resource', 729673: 'forumng', 730097: 'resource', 729801: 'oucontent', 730133: 'url', 729835: 'oucontent', 730025: 'subpage', 730062: 'resource', 730094: 'resource', 729798: 'oucontent', 730127: 'url', 729831: 'oucontent', 730022: 'subpage', 730059: 'resource', 730091: 'resource', 729795: 'page', 730124: 'url', 729828: 'oucontent', 730019: 'subpage', 730053: 'resource', 730088: 'resource', 729792: 'quiz', 730121: 'url', 729825: 'oucontent', 730016: 'subpage', 730050: 'resource', 730085: 'resource', 729789: 'quiz', 730117: 'resource', 729822: 'oucontent', 730013: 'subpage', 730047: 'resource', 730082: 'resource', 729786: 'quiz', 730114: 'resource', 729819: 'oucontent', 730010: 'subpage', 730044: 'resource', 730079: 'resource', 729783: 'quiz', 730111: 'resource', 729816: 'oucontent', 730006: 'subpage', 730041: 'resource', 730076: 'resource', 729780: 'quiz', 730108: 'resource', 729812: 'oucontent', 729843: 'oucontent', 730038: 'resource', 730073: 'resource', 729779: 'quiz', 730105: 'resource', 729809: 'oucontent', 729840: 'oucontent', 730034: 'subpage', 730070: 'resource', 729680: 'forumng', 730102: 'resource', 729806: 'oucontent', 730031: 'subpage', 730067: 'resource', 729676: 'forumng', 730099: 'resource', 729803: 'oucontent', 730135: 'url', 729837: 'oucontent', 730028: 'subpage', 730064: 'resource', 729671: 'homepage', 730096: 'resource', 729800: 'oucontent', 730132: 'url', 729834: 'oucontent', 730024: 'subpage', 730061: 'resource', 730093: 'resource', 729797: 'oucontent', 730126: 'url', 729830: 'oucontent', 730021: 'subpage', 730057: 'resource', 730090: 'resource', 729794: 'quiz', 730123: 'url', 729827: 'oucontent', 730018: 'subpage', 730052: 'resource', 730087: 'resource', 729791: 'quiz', 730120: 'url', 729824: 'oucontent', 730015: 'subpage', 730049: 'resource', 730084: 'resource', 729788: 'quiz', 730116: 'resource', 729821: 'oucontent', 730012: 'subpage', 730046: 'resource', 730081: 'resource', 729785: 'quiz', 730113: 'resource', 729818: 'oucontent', 730008: 'subpage', 730043: 'resource', 730078: 'resource', 729782: 'quiz', 730110: 'resource', 729815: 'oucontent', 729845: 'oucontent', 730040: 'resource', 730075: 'resource', 730107: 'resource', 729811: 'oucontent', 729842: 'oucontent', 730037: 'resource', 730072: 'resource', 729683: 'forumng', 730104: 'resource', 729808: 'oucontent', 730033: 'subpage', 730069: 'resource', 729678: 'forumng', 730101: 'resource', 729805: 'oucontent', 923835: 'oucollaborate', 729839: 'oucontent', 730030: 'subpage', 730066: 'resource', 729674: 'forumng', 730098: 'resource', 729802: 'oucontent', 730134: 'url', 729836: 'oucontent', 730027: 'subpage', 730063: 'resource', 730095: 'resource', 729799: 'oucontent', 730130: 'url', 729833: 'oucontent', 730023: 'subpage', 730060: 'resource', 730092: 'resource', 729796: 'page', 730125: 'url', 729829: 'oucontent', 730020: 'subpage', 730054: 'resource', 730089: 'resource', 729793: 'quiz', 730122: 'url', 729826: 'oucontent', 730017: 'subpage', 730051: 'resource', 730086: 'resource', 729790: 'quiz', 730118: 'oucollaborate', 729823: 'oucontent', 730014: 'subpage', 730048: 'resource', 730083: 'resource', 729787: 'quiz', 730115: 'resource', 729820: 'oucontent', 730011: 'subpage', 730045: 'resource', 730080: 'resource', 729784: 'quiz', 730112: 'resource', 729817: 'oucontent', 730007: 'subpage', 730042: 'resource', 730077: 'resource', 729781: 'quiz', 730109: 'resource', 729813: 'oucontent', 729844: 'oucontent', 730039: 'resource', 730074: 'resource', 730106: 'resource', 729810: 'oucontent', 729841: 'oucontent', 730035: 'subpage', 730071: 'resource', 729682: 'forumng', 730103: 'resource', 729807: 'oucontent', 909016: 'forumng', 909326: 'resource', 909059: 'oucontent', 942322: 'subpage', 909093: 'quiz', 909252: 'subpage', 909294: 'resource', 909013: 'homepage', 909323: 'resource', 909056: 'oucontent', 937763: 'resource', 909090: 'quiz', 909249: 'subpage', 909291: 'resource', 909320: 'resource', 909053: 'oucontent', 937760: 'resource', 909087: 'quiz', 1072252: 'forumng', 909246: 'subpage', 909288: 'resource', 909317: 'resource', 909050: 'oucontent', 937757: 'resource', 909083: 'oucontent', 1046237: 'resource', 909243: 'subpage', 909285: 'resource', 909314: 'resource', 909045: 'oucontent', 937754: 'resource', 909080: 'oucontent', 1042374: 'resource', 909240: 'subpage', 909282: 'resource', 909311: 'resource', 909042: 'oucontent', 909349: 'url', 909077: 'oucontent', 1016724: 'url', 909236: 'subpage', 909275: 'resource', 909308: 'resource', 909039: 'oucontent', 909345: 'url', 909074: 'oucontent', 1011840: 'url', 909233: 'subpage', 909272: 'resource', 909305: 'resource', 909036: 'oucontent', 909342: 'url', 909070: 'oucontent', 1011837: 'subpage', 909230: 'subpage', 909269: 'resource', 909302: 'resource', 909033: 'oucontent', 909338: 'url', 909067: 'oucontent', 989839: 'subpage', 909101: 'page', 909266: 'resource', 909030: 'oucontent', 909333: 'url', 909064: 'oucontent', 957609: 'oucontent', 909098: 'quiz', 909261: 'resource', 909299: 'resource', 909019: 'forumng', 909328: 'resource', 909061: 'oucontent', 957606: 'oucontent', 909095: 'quiz', 909254: 'subpage', 909296: 'resource', 909015: 'forumng', 909325: 'resource', 909058: 'oucontent', 942321: 'oucontent', 909092: 'quiz', 909251: 'subpage', 909293: 'resource', 909322: 'resource', 909055: 'oucontent', 937762: 'resource', 909089: 'quiz', 909248: 'subpage', 909290: 'resource', 909319: 'resource', 909052: 'oucontent', 937759: 'resource', 909086: 'quiz', 1049562: 'oucontent', 909245: 'subpage', 909287: 'resource', 909316: 'resource', 909049: 'oucontent', 937756: 'resource', 909082: 'oucontent', 1042376: 'resource', 909242: 'subpage', 909284: 'resource', 909313: 'resource', 909044: 'oucontent', 937753: 'resource', 909079: 'oucontent', 1042373: 'resource', 909238: 'subpage', 909281: 'resource', 909310: 'resource', 909041: 'oucontent', 909347: 'url', 909076: 'oucontent', 1011842: 'url', 909235: 'subpage', 909274: 'resource', 909307: 'resource', 909038: 'oucontent', 909344: 'url', 909073: 'oucontent', 1011839: 'url', 909232: 'subpage', 909271: 'resource', 909304: 'resource', 909035: 'oucontent', 909341: 'url', 909069: 'oucontent', 1010405: 'resource', 909229: 'subpage', 909268: 'resource', 909032: 'oucontent', 909335: 'url', 909066: 'oucontent', 957615: 'resource', 909100: 'quiz', 909265: 'resource', 909301: 'resource', 909022: 'forumng', 909332: 'oucollaborate', 909063: 'oucontent', 957608: 'oucontent', 909097: 'quiz', 909260: 'resource', 909298: 'resource', 909018: 'forumng', 909327: 'resource', 909060: 'oucontent', 947016: 'resource', 909094: 'quiz', 909253: 'subpage', 909295: 'resource', 909014: 'forumng', 909324: 'resource', 909057: 'oucontent', 937764: 'resource', 909091: 'quiz', 909250: 'subpage', 909292: 'resource', 909321: 'resource', 909054: 'oucontent', 937761: 'resource', 909088: 'quiz', 1072253: 'oucollaborate', 909247: 'subpage', 909289: 'resource', 909318: 'resource', 909051: 'oucontent', 937758: 'resource', 909085: 'quiz', 1046866: 'resource', 909244: 'subpage', 909286: 'resource', 909315: 'resource', 909048: 'oucontent', 937755: 'resource', 909081: 'oucontent', 1042375: 'resource', 909241: 'subpage', 909283: 'resource', 909312: 'resource', 909043: 'oucontent', 937752: 'subpage', 909078: 'oucontent', 1019025: 'forumng', 909237: 'subpage', 909280: 'resource', 909309: 'resource', 909040: 'oucontent', 909346: 'url', 909075: 'oucontent', 1011841: 'url', 909234: 'subpage', 909273: 'resource', 909306: 'resource', 909037: 'oucontent', 909343: 'url', 909071: 'oucontent', 1011838: 'subpage', 909231: 'subpage', 909270: 'resource', 909303: 'resource', 909034: 'oucontent', 909339: 'url', 909068: 'oucontent', 1002902: 'url', 909102: 'page', 909267: 'resource', 909031: 'oucontent', 909334: 'url', 909065: 'oucontent', 957610: 'oucontent', 909099: 'quiz', 909262: 'resource', 909300: 'resource', 909020: 'forumng', 909330: 'resource', 909062: 'oucontent', 957607: 'oucontent', 909096: 'quiz', 909256: 'subpage', 909297: 'resource', 547823: 'url', 547679: 'resource', 547855: 'subpage', 547539: 'oucontent', 547713: 'resource', 547720: 'resource', 547888: 'subpage', 547577: 'resource', 547757: 'url', 547920: 'subpage', 547609: 'resource', 547789: 'url', 547952: 'subpage', 547642: 'resource', 547820: 'url', 547675: 'resource', 547852: 'subpage', 547309: 'externalquiz', 547710: 'resource', 547885: 'subpage', 547574: 'resource', 547752: 'resource', 547917: 'subpage', 547606: 'resource', 547786: 'url', 547949: 'subpage', 547639: 'resource', 547817: 'url', 547671: 'resource', 547849: 'url', 547306: 'externalquiz', 547707: 'resource', 547882: 'subpage', 547571: 'resource', 547748: 'resource', 547914: 'subpage', 547603: 'resource', 547783: 'url', 547946: 'subpage', 547636: 'resource', 547814: 'url', 547668: 'resource', 547846: 'url', 547303: 'homepage', 547704: 'resource', 547879: 'subpage', 547568: 'resource', 547745: 'resource', 547911: 'subpage', 547600: 'resource', 547780: 'url', 547943: 'subpage', 547633: 'resource', 547810: 'url', 547665: 'resource', 547843: 'url', 547277: 'forumng', 547701: 'resource', 547876: 'subpage', 547565: 'resource', 547742: 'resource', 547908: 'subpage', 547597: 'resource', 547777: 'url', 547940: 'subpage', 547630: 'resource', 547662: 'resource', 547840: 'url', 547274: 'forumng', 547698: 'resource', 547873: 'subpage', 547562: 'resource', 547739: 'resource', 547905: 'subpage', 547594: 'resource', 547774: 'url', 547937: 'subpage', 547627: 'resource', 547807: 'url', 547659: 'resource', 547837: 'url', 547271: 'forumng', 547694: 'resource', 547869: 'subpage', 547559: 'ouwiki', 547735: 'resource', 547902: 'subpage', 547591: 'resource', 547771: 'url', 547934: 'subpage', 547623: 'resource', 547804: 'url', 547967: 'ouelluminate', 547655: 'resource', 547834: 'url', 547267: 'glossary', 547690: 'resource', 547866: 'subpage', 547556: 'ouwiki', 547732: 'resource', 547899: 'subpage', 547588: 'resource', 547768: 'url', 547931: 'subpage', 547620: 'resource', 547801: 'url', 547963: 'subpage', 547650: 'resource', 547831: 'url', 547687: 'resource', 547863: 'subpage', 547552: 'ouwiki', 547729: 'resource', 547896: 'subpage', 547585: 'resource', 547765: 'url', 547928: 'subpage', 547617: 'resource', 547798: 'url', 547960: 'subpage', 547647: 'resource', 547828: 'url', 547684: 'resource', 547860: 'subpage', 547548: 'oucontent', 547719: 'resource', 547725: 'resource', 547893: 'subpage', 547582: 'resource', 547762: 'url', 547925: 'subpage', 547614: 'resource', 547794: 'url', 547957: 'subpage', 547644: 'resource', 547825: 'url', 547681: 'resource', 547857: 'subpage', 547545: 'oucontent', 547716: 'resource', 547722: 'resource', 547890: 'subpage', 547579: 'resource', 547759: 'url', 547922: 'subpage', 547611: 'resource', 547791: 'url', 547954: 'subpage', 547822: 'url', 547678: 'resource', 547854: 'subpage', 547493: 'page', 547712: 'resource', 547887: 'subpage', 547576: 'resource', 547756: 'url', 547919: 'subpage', 547608: 'resource', 547788: 'url', 547951: 'subpage', 547641: 'resource', 547819: 'url', 547674: 'resource', 547851: 'subpage', 547308: 'externalquiz', 547709: 'resource', 547884: 'subpage', 547573: 'resource', 547751: 'resource', 547916: 'subpage', 547605: 'resource', 547785: 'url', 547948: 'subpage', 547638: 'resource', 547816: 'url', 547670: 'resource', 547848: 'url', 547305: 'externalquiz', 547706: 'resource', 547881: 'subpage', 547570: 'resource', 547747: 'resource', 547913: 'subpage', 547602: 'resource', 547782: 'url', 547945: 'subpage', 547635: 'resource', 547813: 'url', 547667: 'resource', 547845: 'url', 547279: 'forumng', 547703: 'resource', 547878: 'subpage', 547567: 'resource', 547744: 'resource', 547910: 'subpage', 547599: 'resource', 547779: 'url', 547942: 'subpage', 547632: 'resource', 547664: 'resource', 547842: 'url', 547276: 'forumng', 547700: 'resource', 547875: 'subpage', 547564: 'resource', 547741: 'resource', 547907: 'subpage', 547596: 'resource', 547776: 'url', 547939: 'subpage', 547629: 'resource', 547809: 'url', 547969: 'ouelluminate', 547661: 'resource', 547839: 'url', 547273: 'forumng', 547697: 'resource', 547872: 'subpage', 547561: 'resource', 547738: 'resource', 547904: 'subpage', 547593: 'resource', 547773: 'url', 547936: 'subpage', 547626: 'resource', 547806: 'url', 547658: 'resource', 547836: 'url', 547270: 'forumng', 547693: 'resource', 547868: 'subpage', 547558: 'ouwiki', 547734: 'resource', 547901: 'subpage', 547590: 'resource', 547770: 'url', 547933: 'subpage', 547622: 'resource', 547803: 'url', 547966: 'ouelluminate', 547654: 'resource', 547833: 'url', 547689: 'resource', 547865: 'subpage', 547555: 'ouwiki', 547731: 'resource', 547898: 'subpage', 547587: 'resource', 547767: 'url', 547930: 'subpage', 547619: 'resource', 547800: 'url', 547962: 'subpage', 547649: 'resource', 547830: 'url', 547686: 'resource', 547862: 'subpage', 547551: 'ouwiki', 547727: 'resource', 547895: 'subpage', 547584: 'resource', 547764: 'url', 547927: 'subpage', 547616: 'resource', 547797: 'url', 547959: 'subpage', 547646: 'resource', 547827: 'url', 547683: 'resource', 547859: 'subpage', 547547: 'oucontent', 547718: 'resource', 547724: 'resource', 547892: 'subpage', 547581: 'resource', 547761: 'url', 547924: 'subpage', 547613: 'resource', 547793: 'url', 547956: 'subpage', 547824: 'url', 547680: 'resource', 547856: 'subpage', 547542: 'oucontent', 547715: 'resource', 547721: 'resource', 547889: 'subpage', 547578: 'resource', 547758: 'url', 547921: 'subpage', 547610: 'resource', 547790: 'url', 547953: 'subpage', 547643: 'resource', 547821: 'url', 547676: 'resource', 547853: 'subpage', 547310: 'externalquiz', 547711: 'resource', 547886: 'subpage', 547575: 'resource', 547753: 'resource', 547918: 'subpage', 547607: 'resource', 547787: 'url', 547950: 'subpage', 547640: 'resource', 547818: 'url', 547673: 'resource', 547850: 'subpage', 547307: 'externalquiz', 547708: 'resource', 547883: 'subpage', 547572: 'resource', 547749: 'resource', 547915: 'subpage', 547604: 'resource', 547784: 'url', 547947: 'subpage', 547637: 'resource', 547815: 'url', 547669: 'resource', 547847: 'url', 547304: 'externalquiz', 547705: 'resource', 547880: 'subpage', 547569: 'resource', 547746: 'resource', 547912: 'subpage', 547601: 'resource', 547781: 'url', 547944: 'subpage', 547634: 'resource', 547812: 'url', 547666: 'resource', 547844: 'url', 547278: 'forumng', 547702: 'resource', 547877: 'subpage', 547566: 'resource', 547743: 'resource', 547909: 'subpage', 547598: 'resource', 547778: 'url', 547941: 'subpage', 547631: 'resource', 547663: 'resource', 547841: 'url', 547275: 'forumng', 547699: 'resource', 547874: 'subpage', 547563: 'resource', 547740: 'resource', 547906: 'subpage', 547595: 'resource', 547775: 'url', 547938: 'subpage', 547628: 'resource', 547808: 'url', 547968: 'ouelluminate', 547660: 'resource', 547838: 'url', 547272: 'forumng', 547695: 'resource', 547871: 'subpage', 547560: 'resource', 547737: 'resource', 547903: 'subpage', 547592: 'resource', 547772: 'url', 547935: 'subpage', 547625: 'resource', 547805: 'url', 547656: 'resource', 547835: 'url', 547269: 'forumng', 547692: 'resource', 547867: 'subpage', 547557: 'ouwiki', 547733: 'resource', 547900: 'subpage', 547589: 'resource', 547769: 'url', 547932: 'subpage', 547621: 'resource', 547802: 'url', 547964: 'subpage', 547651: 'resource', 547832: 'url', 547688: 'resource', 547864: 'subpage', 547553: 'ouwiki', 547730: 'resource', 547897: 'subpage', 547586: 'resource', 547766: 'url', 547929: 'subpage', 547618: 'resource', 547799: 'url', 547961: 'subpage', 547648: 'resource', 547829: 'url', 547685: 'resource', 547861: 'subpage', 547550: 'ouwiki', 547726: 'resource', 547894: 'subpage', 547583: 'resource', 547763: 'url', 547926: 'subpage', 547615: 'resource', 547795: 'url', 547958: 'subpage', 547645: 'resource', 547826: 'url', 547682: 'resource', 547858: 'subpage', 547546: 'oucontent', 547717: 'resource', 547723: 'resource', 547891: 'subpage', 547580: 'resource', 547760: 'url', 547923: 'subpage', 547612: 'resource', 547792: 'url', 547955: 'subpage', 674050: 'subpage', 674224: 'resource', 674446: 'url', 674085: 'subpage', 674258: 'resource', 673545: 'forumng', 674121: 'subpage', 674299: 'resource', 673986: 'subpage', 674155: 'subpage', 674334: 'resource', 674018: 'subpage', 674188: 'resource', 674374: 'url', 674047: 'subpage', 674221: 'resource', 674443: 'url', 674082: 'subpage', 674255: 'resource', 673541: 'forumng', 674118: 'subpage', 674290: 'resource', 674296: 'resource', 673983: 'subpage', 674152: 'subpage', 674331: 'resource', 674015: 'subpage', 674185: 'resource', 674369: 'oucollaborate', 674217: 'resource', 674440: 'url', 674078: 'subpage', 674251: 'resource', 673537: 'forumng', 674113: 'subpage', 674287: 'resource', 674293: 'resource', 673980: 'subpage', 674149: 'subpage', 674327: 'resource', 674012: 'subpage', 674182: 'resource', 674364: 'resource', 674044: 'subpage', 674214: 'resource', 674437: 'url', 674074: 'subpage', 674248: 'resource', 673534: 'forumng', 674110: 'subpage', 674284: 'resource', 673971: 'subpage', 673977: 'subpage', 674145: 'subpage', 674324: 'resource', 674009: 'subpage', 674179: 'resource', 674361: 'resource', 674041: 'subpage', 674434: 'url', 674071: 'subpage', 674245: 'resource', 673530: 'forumng', 674105: 'subpage', 674281: 'resource', 673968: 'subpage', 673974: 'subpage', 674142: 'subpage', 674321: 'resource', 674006: 'subpage', 674176: 'resource', 674358: 'resource', 674038: 'subpage', 674210: 'resource', 674431: 'url', 674067: 'subpage', 674242: 'resource', 673527: 'forumng', 674102: 'subpage', 674277: 'resource', 673746: 'ouwiki', 674139: 'subpage', 674318: 'resource', 674003: 'subpage', 674172: 'resource', 674355: 'resource', 674035: 'subpage', 674207: 'resource', 674428: 'url', 674064: 'subpage', 674239: 'resource', 673524: 'externalquiz', 674099: 'subpage', 674274: 'resource', 673740: 'oucontent', 674136: 'subpage', 674315: 'resource', 674000: 'subpage', 674169: 'subpage', 674351: 'resource', 674032: 'subpage', 674204: 'resource', 674392: 'url', 674061: 'subpage', 674236: 'resource', 673521: 'externalquiz', 674096: 'subpage', 674271: 'resource', 673733: 'oucontent', 674133: 'subpage', 674312: 'resource', 673997: 'subpage', 674166: 'subpage', 674346: 'resource', 674029: 'subpage', 674200: 'resource', 674383: 'url', 674058: 'subpage', 674233: 'resource', 674458: 'url', 674093: 'subpage', 674268: 'resource', 673729: 'oucontent', 674130: 'subpage', 674309: 'resource', 673994: 'subpage', 674163: 'subpage', 674343: 'resource', 674026: 'subpage', 674197: 'resource', 674055: 'subpage', 674229: 'resource', 674453: 'url', 674090: 'subpage', 674265: 'resource', 673726: 'oucontent', 674126: 'subpage', 674306: 'resource', 673991: 'subpage', 674160: 'subpage', 674339: 'resource', 674023: 'subpage', 674194: 'resource', 674380: 'url', 674052: 'subpage', 674226: 'resource', 674448: 'url', 674087: 'subpage', 674262: 'resource', 673723: 'oucontent', 674123: 'subpage', 674301: 'resource', 673988: 'subpage', 674157: 'subpage', 674336: 'resource', 674020: 'subpage', 674191: 'resource', 674377: 'url', 674049: 'subpage', 674223: 'resource', 674445: 'url', 674084: 'subpage', 674257: 'resource', 673543: 'forumng', 674120: 'subpage', 674292: 'resource', 674298: 'resource', 673985: 'subpage', 674154: 'subpage', 674333: 'resource', 674017: 'subpage', 674187: 'resource', 674373: 'url', 674046: 'subpage', 674220: 'resource', 674442: 'url', 674080: 'subpage', 674253: 'resource', 673540: 'forumng', 674117: 'subpage', 674289: 'resource', 674295: 'resource', 673982: 'subpage', 674151: 'subpage', 674329: 'resource', 674014: 'subpage', 674184: 'resource', 674367: 'oucollaborate', 674216: 'resource', 674439: 'url', 674077: 'subpage', 674250: 'resource', 673536: 'forumng', 674112: 'subpage', 674286: 'resource', 673973: 'subpage', 673979: 'subpage', 674148: 'subpage', 674326: 'resource', 674011: 'subpage', 674181: 'resource', 674363: 'resource', 674043: 'subpage', 674213: 'resource', 674436: 'url', 674073: 'subpage', 674247: 'resource', 673533: 'forumng', 674108: 'subpage', 674283: 'resource', 673970: 'subpage', 673976: 'subpage', 674144: 'subpage', 674323: 'resource', 674008: 'subpage', 674178: 'resource', 674360: 'resource', 674040: 'subpage', 674433: 'url', 674070: 'subpage', 674244: 'resource', 673529: 'forumng', 674104: 'subpage', 674279: 'resource', 673967: 'subpage', 674141: 'subpage', 674320: 'resource', 674005: 'subpage', 674175: 'resource', 674357: 'resource', 674037: 'subpage', 674209: 'resource', 674430: 'url', 674066: 'subpage', 674241: 'resource', 673526: 'externalquiz', 674101: 'subpage', 674276: 'resource', 673745: 'ouwiki', 674138: 'subpage', 674317: 'resource', 674002: 'subpage', 674171: 'resource', 674353: 'resource', 674034: 'subpage', 674206: 'resource', 674427: 'url', 674063: 'subpage', 674238: 'resource', 673523: 'externalquiz', 674098: 'subpage', 674273: 'resource', 673739: 'oucontent', 674135: 'subpage', 674314: 'resource', 673999: 'subpage', 674168: 'subpage', 674348: 'resource', 674031: 'subpage', 674203: 'resource', 674391: 'url', 674060: 'subpage', 674235: 'resource', 673520: 'externalquiz', 674461: 'url', 674095: 'subpage', 674270: 'resource', 673731: 'oucontent', 674132: 'subpage', 674311: 'resource', 673996: 'subpage', 674165: 'subpage', 674345: 'resource', 674028: 'subpage', 674199: 'resource', 674057: 'subpage', 674232: 'resource', 674457: 'url', 674092: 'subpage', 674267: 'resource', 673728: 'oucontent', 674129: 'subpage', 674308: 'resource', 673993: 'subpage', 674162: 'subpage', 674341: 'resource', 674025: 'subpage', 674196: 'resource', 674382: 'url', 674054: 'subpage', 674228: 'resource', 674450: 'url', 674089: 'subpage', 674264: 'resource', 673725: 'oucontent', 674125: 'subpage', 674303: 'resource', 673990: 'subpage', 674159: 'subpage', 674338: 'resource', 674022: 'subpage', 674193: 'resource', 674379: 'url', 674051: 'subpage', 674225: 'resource', 674447: 'url', 674086: 'subpage', 674259: 'resource', 673546: 'glossary', 674122: 'subpage', 674300: 'resource', 673987: 'subpage', 674156: 'subpage', 674335: 'resource', 674019: 'subpage', 674190: 'resource', 674375: 'url', 674048: 'subpage', 674222: 'resource', 674444: 'url', 674083: 'subpage', 674256: 'resource', 673542: 'forumng', 674119: 'subpage', 674291: 'resource', 674297: 'resource', 673984: 'subpage', 674153: 'subpage', 674332: 'resource', 674016: 'subpage', 674186: 'resource', 674370: 'oucollaborate', 674045: 'subpage', 674218: 'resource', 674441: 'url', 674079: 'subpage', 674252: 'resource', 673539: 'forumng', 674115: 'subpage', 674288: 'resource', 674294: 'resource', 673981: 'subpage', 674150: 'subpage', 674328: 'resource', 674013: 'subpage', 674183: 'resource', 674366: 'oucollaborate', 674215: 'resource', 674438: 'url', 674075: 'subpage', 674249: 'resource', 673535: 'forumng', 674111: 'subpage', 674285: 'resource', 673972: 'subpage', 673978: 'subpage', 674146: 'subpage', 674325: 'resource', 674010: 'subpage', 674180: 'resource', 674362: 'resource', 674042: 'subpage', 674435: 'url', 674072: 'subpage', 674246: 'resource', 673532: 'forumng', 674107: 'subpage', 674282: 'resource', 673969: 'subpage', 673975: 'subpage', 674143: 'subpage', 674322: 'resource', 674007: 'subpage', 674177: 'resource', 674359: 'resource', 674039: 'subpage', 674212: 'resource', 674432: 'url', 674069: 'subpage', 674243: 'resource', 673528: 'forumng', 674103: 'subpage', 674278: 'resource', 673747: 'ouwiki', 674140: 'subpage', 674319: 'resource', 674004: 'subpage', 674174: 'resource', 674356: 'resource', 674036: 'subpage', 674208: 'resource', 674429: 'url', 674065: 'subpage', 674240: 'resource', 673525: 'externalquiz', 674100: 'subpage', 674275: 'resource', 673743: 'ouwiki', 674137: 'subpage', 674316: 'resource', 674001: 'subpage', 674170: 'resource', 674352: 'resource', 674033: 'subpage', 674205: 'resource', 674393: 'url', 674062: 'subpage', 674237: 'resource', 673522: 'externalquiz', 674097: 'subpage', 674272: 'resource', 673737: 'oucontent', 674134: 'subpage', 674313: 'resource', 673998: 'subpage', 674167: 'subpage', 674347: 'resource', 674030: 'subpage', 674202: 'resource', 674384: 'url', 674059: 'subpage', 674234: 'resource', 673519: 'homepage', 674459: 'url', 674094: 'subpage', 674269: 'resource', 673730: 'oucontent', 674131: 'subpage', 674310: 'resource', 673995: 'subpage', 674164: 'subpage', 674344: 'resource', 674027: 'subpage', 674198: 'resource', 674056: 'subpage', 674230: 'resource', 674456: 'url', 674091: 'subpage', 674266: 'resource', 673727: 'oucontent', 674127: 'subpage', 674307: 'resource', 673992: 'subpage', 674161: 'subpage', 674340: 'resource', 674024: 'subpage', 674195: 'resource', 674381: 'url', 674053: 'subpage', 674227: 'resource', 674449: 'url', 674088: 'subpage', 674263: 'resource', 673724: 'oucontent', 674124: 'subpage', 674302: 'resource', 673989: 'subpage', 674158: 'subpage', 674337: 'resource', 674021: 'subpage', 674192: 'resource', 674378: 'url', 773471: 'url', 773129: 'subpage', 772736: 'forumng', 773324: 'resource', 773162: 'subpage', 773022: 'subpage', 773357: 'resource', 773194: 'subpage', 773400: 'resource', 773063: 'subpage', 773260: 'resource', 773434: 'url', 773096: 'subpage', 773292: 'resource', 773126: 'subpage', 772733: 'forumng', 773321: 'resource', 773159: 'subpage', 773019: 'subpage', 773354: 'resource', 773191: 'subpage', 773397: 'resource', 773060: 'subpage', 773257: 'resource', 773431: 'url', 773092: 'subpage', 773289: 'resource', 773468: 'url', 773123: 'subpage', 772727: 'forumng', 773318: 'resource', 773155: 'subpage', 773016: 'subpage', 773351: 'resource', 773188: 'subpage', 773393: 'resource', 773057: 'subpage', 773252: 'resource', 773428: 'url', 773089: 'subpage', 773286: 'resource', 773464: 'url', 773120: 'subpage', 772704: 'externalquiz', 773315: 'resource', 773152: 'subpage', 773013: 'subpage', 773347: 'resource', 773185: 'subpage', 773389: 'resource', 773054: 'subpage', 773247: 'resource', 773425: 'oucollaborate', 773086: 'subpage', 773283: 'resource', 773461: 'url', 773117: 'subpage', 772701: 'externalquiz', 773312: 'resource', 773149: 'subpage', 773010: 'subpage', 773344: 'resource', 773182: 'subpage', 773386: 'resource', 773050: 'subpage', 773243: 'resource', 773421: 'oucollaborate', 773083: 'subpage', 773280: 'resource', 773458: 'url', 773114: 'subpage', 772698: 'externalquiz', 773309: 'resource', 773146: 'subpage', 773002: 'ouwiki', 773341: 'resource', 773179: 'subpage', 773383: 'resource', 773047: 'subpage', 773240: 'resource', 773418: 'resource', 773080: 'subpage', 773277: 'resource', 773455: 'url', 773306: 'resource', 773143: 'subpage', 772998: 'oucontent', 773338: 'resource', 773176: 'subpage', 773372: 'resource', 773378: 'resource', 773044: 'subpage', 773237: 'resource', 773415: 'resource', 773077: 'subpage', 773274: 'resource', 773451: 'url', 773111: 'subpage', 773140: 'subpage', 772994: 'oucontent', 773335: 'resource', 773173: 'subpage', 773033: 'subpage', 773368: 'resource', 773375: 'resource', 773041: 'subpage', 773234: 'resource', 773412: 'resource', 773074: 'subpage', 773271: 'resource', 773447: 'url', 773107: 'subpage', 773303: 'resource', 773137: 'subpage', 772991: 'oucontent', 773332: 'resource', 773170: 'subpage', 773030: 'subpage', 773365: 'resource', 773038: 'subpage', 773202: 'subpage', 773409: 'resource', 773071: 'subpage', 773268: 'resource', 773444: 'url', 773104: 'subpage', 773300: 'resource', 924211: 'subpage', 773134: 'subpage', 772988: 'oucontent', 773329: 'resource', 773167: 'subpage', 773027: 'subpage', 773362: 'resource', 773035: 'subpage', 773199: 'subpage', 773406: 'resource', 773068: 'subpage', 773265: 'resource', 773441: 'url', 773101: 'subpage', 773297: 'resource', 924208: 'forumng', 773131: 'subpage', 772738: 'forumng', 773326: 'resource', 773164: 'subpage', 773024: 'subpage', 773359: 'resource', 773196: 'subpage', 773402: 'resource', 773065: 'subpage', 773262: 'resource', 773436: 'url', 773098: 'subpage', 773294: 'resource', 773470: 'url', 773128: 'subpage', 772735: 'forumng', 773323: 'resource', 773161: 'subpage', 773021: 'subpage', 773356: 'resource', 773193: 'subpage', 773399: 'resource', 773062: 'subpage', 773259: 'resource', 773433: 'url', 773095: 'subpage', 773291: 'resource', 773125: 'subpage', 772729: 'forumng', 773320: 'resource', 773157: 'subpage', 773018: 'subpage', 773353: 'resource', 773190: 'subpage', 773396: 'resource', 773059: 'subpage', 773256: 'resource', 773430: 'url', 773091: 'subpage', 773288: 'resource', 773467: 'url', 773122: 'subpage', 772725: 'glossary', 773317: 'resource', 773154: 'subpage', 773015: 'subpage', 773350: 'resource', 773187: 'subpage', 773391: 'resource', 773056: 'subpage', 773251: 'resource', 773427: 'url', 773088: 'subpage', 773285: 'resource', 773463: 'url', 773119: 'subpage', 772703: 'externalquiz', 773314: 'resource', 773151: 'subpage', 773012: 'subpage', 773346: 'resource', 773184: 'subpage', 773388: 'resource', 773053: 'subpage', 773246: 'resource', 773423: 'oucollaborate', 773085: 'subpage', 773282: 'resource', 773460: 'url', 773116: 'subpage', 772700: 'externalquiz', 773311: 'resource', 773148: 'subpage', 773009: 'subpage', 773343: 'resource', 773181: 'subpage', 773385: 'resource', 773049: 'subpage', 773242: 'resource', 773420: 'resource', 773082: 'subpage', 773279: 'resource', 773457: 'url', 773308: 'resource', 773145: 'subpage', 773001: 'oucontent', 773340: 'resource', 773178: 'subpage', 773382: 'resource', 773046: 'subpage', 773239: 'resource', 773417: 'resource', 773079: 'subpage', 773276: 'resource', 773453: 'url', 773113: 'subpage', 773305: 'resource', 773142: 'subpage', 772997: 'oucontent', 773337: 'resource', 773175: 'subpage', 773371: 'resource', 773377: 'resource', 773043: 'subpage', 773236: 'resource', 773414: 'resource', 773076: 'subpage', 773273: 'resource', 773449: 'url', 773110: 'subpage', 773139: 'subpage', 772993: 'oucontent', 773334: 'resource', 773172: 'subpage', 773032: 'subpage', 773367: 'resource', 773374: 'resource', 773040: 'subpage', 773204: 'subpage', 773411: 'resource', 773073: 'subpage', 773270: 'resource', 773446: 'url', 773106: 'subpage', 773302: 'resource', 936659: 'resource', 773136: 'subpage', 772990: 'oucontent', 773331: 'resource', 773169: 'subpage', 773029: 'subpage', 773364: 'resource', 773037: 'subpage', 773201: 'subpage', 773408: 'resource', 773070: 'subpage', 773267: 'resource', 773443: 'url', 773103: 'subpage', 773299: 'resource', 924210: 'forumng', 773133: 'subpage', 772987: 'oucontent', 773328: 'resource', 773166: 'subpage', 773026: 'subpage', 773361: 'resource', 773034: 'subpage', 773198: 'subpage', 773405: 'resource', 773067: 'subpage', 773264: 'resource', 773438: 'url', 773100: 'subpage', 773296: 'resource', 773472: 'url', 773130: 'subpage', 772737: 'forumng', 773325: 'resource', 773163: 'subpage', 773023: 'subpage', 773358: 'resource', 773195: 'subpage', 773401: 'resource', 773064: 'subpage', 773261: 'resource', 773435: 'url', 773097: 'subpage', 773293: 'resource', 773469: 'url', 773127: 'subpage', 772734: 'forumng', 773322: 'resource', 773160: 'subpage', 773020: 'subpage', 773355: 'resource', 773192: 'subpage', 773398: 'resource', 773061: 'subpage', 773258: 'resource', 773432: 'url', 773093: 'subpage', 773290: 'resource', 773124: 'subpage', 772728: 'forumng', 773319: 'resource', 773156: 'subpage', 773017: 'subpage', 773352: 'resource', 773189: 'subpage', 773395: 'resource', 773058: 'subpage', 773255: 'resource', 773429: 'url', 773090: 'subpage', 773287: 'resource', 773465: 'url', 773121: 'subpage', 772705: 'homepage', 773316: 'resource', 773153: 'subpage', 773014: 'subpage', 773349: 'resource', 773186: 'subpage', 773390: 'resource', 773055: 'subpage', 773248: 'resource', 773426: 'oucollaborate', 773087: 'subpage', 773284: 'resource', 773462: 'url', 773118: 'subpage', 772702: 'externalquiz', 773313: 'resource', 773150: 'subpage', 773011: 'subpage', 773345: 'resource', 773183: 'subpage', 773387: 'resource', 773051: 'subpage', 773244: 'resource', 773422: 'oucollaborate', 773084: 'subpage', 773281: 'resource', 773459: 'url', 773115: 'subpage', 772699: 'externalquiz', 773310: 'resource', 773147: 'subpage', 773008: 'ouwiki', 773342: 'resource', 773180: 'subpage', 773384: 'resource', 773048: 'subpage', 773241: 'resource', 773419: 'resource', 773081: 'subpage', 773278: 'resource', 773456: 'url', 773307: 'resource', 773144: 'subpage', 772999: 'oucontent', 773339: 'resource', 773177: 'subpage', 773373: 'resource', 773379: 'resource', 773045: 'subpage', 773238: 'resource', 773416: 'resource', 773078: 'subpage', 773275: 'resource', 773452: 'url', 773112: 'subpage', 773304: 'resource', 773141: 'subpage', 772995: 'oucontent', 773336: 'resource', 773174: 'subpage', 773369: 'resource', 773376: 'resource', 773042: 'subpage', 773235: 'resource', 773413: 'resource', 773075: 'subpage', 773272: 'resource', 773448: 'url', 773108: 'subpage', 773138: 'subpage', 772992: 'oucontent', 773333: 'resource', 773171: 'subpage', 773031: 'subpage', 773366: 'resource', 773039: 'subpage', 773203: 'subpage', 773410: 'resource', 773072: 'subpage', 773269: 'resource', 773445: 'url', 773105: 'subpage', 773301: 'resource', 936658: 'resource', 773135: 'subpage', 772989: 'oucontent', 773330: 'resource', 773168: 'subpage', 773028: 'subpage', 773363: 'resource', 773036: 'subpage', 773200: 'subpage', 773407: 'resource', 773069: 'subpage', 773266: 'resource', 773442: 'url', 773102: 'subpage', 773298: 'resource', 924209: 'forumng', 773132: 'subpage', 772739: 'forumng', 773327: 'resource', 773165: 'subpage', 773025: 'subpage', 773360: 'resource', 773197: 'subpage', 773404: 'resource', 773066: 'subpage', 773263: 'resource', 773437: 'url', 773099: 'subpage', 773295: 'resource', 813953: 'subpage', 814128: 'resource', 1016371: 'forumng', 813986: 'subpage', 814162: 'resource', 814018: 'subpage', 814199: 'resource', 814058: 'resource', 814289: 'url', 814094: 'resource', 814321: 'url', 813950: 'subpage', 814125: 'resource', 1011355: 'resource', 813983: 'subpage', 814159: 'resource', 814015: 'subpage', 814195: 'resource', 814054: 'resource', 814286: 'url', 814091: 'resource', 814318: 'url', 814122: 'resource', 1006065: 'resource', 813980: 'subpage', 814155: 'resource', 814012: 'subpage', 814191: 'resource', 814051: 'subpage', 814283: 'url', 814088: 'resource', 814315: 'url', 813947: 'subpage', 814119: 'resource', 986521: 'oucollaborate', 813977: 'subpage', 814152: 'resource', 814009: 'subpage', 814187: 'resource', 814048: 'subpage', 814280: 'oucollaborate', 814084: 'resource', 814312: 'url', 813944: 'subpage', 814116: 'resource', 967275: 'url', 813974: 'subpage', 814149: 'resource', 814006: 'subpage', 814184: 'resource', 814045: 'subpage', 814222: 'resource', 814080: 'resource', 814309: 'url', 813940: 'oucontent', 814112: 'resource', 952513: 'resource', 813971: 'subpage', 814146: 'resource', 814003: 'subpage', 814181: 'resource', 814036: 'subpage', 814042: 'subpage', 814219: 'resource', 814077: 'resource', 814306: 'url', 813936: 'oucontent', 814109: 'resource', 952510: 'resource', 813967: 'subpage', 814143: 'resource', 814000: 'subpage', 814178: 'resource', 814033: 'subpage', 814039: 'subpage', 814216: 'resource', 814074: 'resource', 814303: 'url', 813932: 'oucontent', 952507: 'subpage', 813964: 'subpage', 814140: 'resource', 813997: 'subpage', 814175: 'resource', 814029: 'subpage', 814212: 'resource', 814071: 'resource', 814300: 'url', 813711: 'glossary', 814105: 'resource', 813961: 'subpage', 814137: 'resource', 1072100: 'forumng', 813994: 'subpage', 814172: 'resource', 814026: 'subpage', 814208: 'resource', 814067: 'resource', 814297: 'url', 813708: 'forumng', 814102: 'resource', 924983: 'url', 813958: 'subpage', 814134: 'resource', 1046812: 'glossary', 813991: 'subpage', 814169: 'resource', 814023: 'subpage', 814204: 'resource', 814064: 'resource', 814294: 'url', 813704: 'externalquiz', 814099: 'resource', 924980: 'resource', 813955: 'subpage', 814131: 'resource', 1016377: 'resource', 813988: 'subpage', 814166: 'resource', 814020: 'subpage', 814201: 'resource', 814060: 'resource', 814291: 'url', 813701: 'homepage', 814096: 'resource', 814323: 'url', 813952: 'subpage', 814127: 'resource', 1016370: 'forumng', 813985: 'subpage', 814161: 'resource', 814017: 'subpage', 814198: 'resource', 814056: 'resource', 814288: 'url', 814093: 'resource', 814320: 'url', 813949: 'subpage', 814124: 'resource', 1006068: 'oucollaborate', 813982: 'subpage', 814158: 'resource', 814014: 'subpage', 814193: 'resource', 814053: 'resource', 814285: 'url', 814090: 'resource', 814317: 'url', 814121: 'resource', 1006064: 'externalquiz', 813979: 'subpage', 814154: 'resource', 814011: 'subpage', 814189: 'resource', 814050: 'subpage', 814282: 'url', 814087: 'resource', 814314: 'url', 813946: 'subpage', 814118: 'resource', 985360: 'resource', 813976: 'subpage', 814151: 'resource', 814008: 'subpage', 814186: 'resource', 814047: 'subpage', 814279: 'oucollaborate', 814083: 'resource', 814311: 'url', 813943: 'ouwiki', 814115: 'resource', 967274: 'url', 813973: 'subpage', 814148: 'resource', 814005: 'subpage', 814183: 'resource', 814038: 'subpage', 814044: 'subpage', 814221: 'resource', 814079: 'resource', 814308: 'url', 813939: 'oucontent', 814111: 'resource', 952512: 'resource', 813969: 'subpage', 814145: 'resource', 814002: 'subpage', 814180: 'resource', 814035: 'subpage', 814041: 'subpage', 814218: 'resource', 814076: 'resource', 814305: 'url', 813935: 'oucontent', 952509: 'resource', 813966: 'subpage', 814142: 'resource', 813999: 'subpage', 814177: 'resource', 814032: 'subpage', 814215: 'resource', 814073: 'resource', 814302: 'url', 813931: 'oucontent', 814107: 'resource', 936982: 'resource', 813963: 'subpage', 814139: 'resource', 813996: 'subpage', 814174: 'resource', 814028: 'subpage', 814211: 'resource', 814070: 'resource', 814299: 'url', 813710: 'forumng', 814104: 'resource', 813960: 'subpage', 814136: 'resource', 1072099: 'forumng', 813993: 'subpage', 814171: 'resource', 814025: 'subpage', 814206: 'resource', 814066: 'resource', 814296: 'url', 813707: 'forumng', 814101: 'resource', 924982: 'resource', 813957: 'subpage', 814133: 'resource', 1016387: 'subpage', 813990: 'subpage', 814168: 'resource', 814022: 'subpage', 814203: 'resource', 814062: 'resource', 814293: 'url', 813703: 'externalquiz', 814098: 'resource', 924979: 'oucontent', 813954: 'subpage', 814129: 'resource', 1016372: 'forumng', 813987: 'subpage', 814163: 'resource', 814019: 'subpage', 814200: 'resource', 814059: 'resource', 814290: 'url', 814095: 'resource', 814322: 'url', 813951: 'subpage', 814126: 'resource', 1012845: 'forumng', 813984: 'subpage', 814160: 'resource', 814016: 'subpage', 814196: 'resource', 814055: 'resource', 814287: 'url', 814092: 'resource', 814319: 'url', 814123: 'resource', 1006067: 'subpage', 813981: 'subpage', 814157: 'resource', 814013: 'subpage', 814192: 'resource', 814052: 'resource', 814284: 'url', 814089: 'resource', 814316: 'url', 813948: 'subpage', 814120: 'resource', 1004387: 'oucontent', 813978: 'subpage', 814153: 'resource', 814010: 'subpage', 814188: 'resource', 814049: 'subpage', 814281: 'url', 814086: 'resource', 814313: 'url', 813945: 'subpage', 814117: 'resource', 981690: 'externalquiz', 813975: 'subpage', 814150: 'resource', 814007: 'subpage', 814185: 'resource', 814046: 'subpage', 814278: 'oucollaborate', 814082: 'resource', 814310: 'url', 813941: 'oucontent', 814114: 'resource', 967273: 'subpage', 813972: 'subpage', 814147: 'resource', 814004: 'subpage', 814182: 'resource', 814037: 'subpage', 814043: 'subpage', 814220: 'resource', 814078: 'resource', 814307: 'url', 813937: 'oucontent', 814110: 'resource', 952511: 'resource', 813968: 'subpage', 814144: 'resource', 814001: 'subpage', 814179: 'resource', 814034: 'subpage', 814040: 'subpage', 814217: 'resource', 814075: 'resource', 814304: 'url', 813933: 'oucontent', 952508: 'resource', 813965: 'subpage', 814141: 'resource', 813998: 'subpage', 814176: 'resource', 814030: 'subpage', 814213: 'resource', 814072: 'resource', 814301: 'url', 813929: 'oucontent', 814106: 'resource', 936981: 'oucontent', 813962: 'subpage', 814138: 'resource', 813995: 'subpage', 814173: 'resource', 814027: 'subpage', 814210: 'resource', 814069: 'resource', 814298: 'url', 813709: 'forumng', 814103: 'resource', 813959: 'subpage', 814135: 'resource', 1072098: 'forumng', 813992: 'subpage', 814170: 'resource', 814024: 'subpage', 814205: 'resource', 814065: 'resource', 814295: 'url', 813706: 'forumng', 814100: 'resource', 924981: 'resource', 813956: 'subpage', 814132: 'resource', 1016378: 'resource', 813989: 'subpage', 814167: 'resource', 814021: 'subpage', 814202: 'resource', 814061: 'resource', 814292: 'url', 813702: 'externalquiz', 814097: 'resource', 924967: 'forumng', 551055: 'oucontent', 551126: 'resource', 551171: 'subpage', 551015: 'forumng', 551052: 'oucontent', 551123: 'resource', 551168: 'subpage', 551012: 'forumng', 551049: 'oucontent', 551120: 'resource', 551163: 'url', 551078: 'quiz', 551160: 'url', 551046: 'oucontent', 551075: 'page', 551148: 'resource', 551155: 'resource', 551043: 'oucontent', 551072: 'ouwiki', 551144: 'resource', 551151: 'resource', 551039: 'oucontent', 551069: 'oucontent', 551141: 'resource', 551036: 'oucontent', 551066: 'oucontent', 551137: 'resource', 551032: 'oucontent', 551063: 'oucontent', 551134: 'resource', 551028: 'oucontent', 551060: 'oucontent', 551131: 'resource', 551024: 'oucontent', 551057: 'oucontent', 551128: 'resource', 551173: 'subpage', 551020: 'oucontent', 551054: 'oucontent', 551125: 'resource', 551170: 'subpage', 551014: 'forumng', 551051: 'oucontent', 551122: 'resource', 551167: 'subpage', 551011: 'forumng', 551048: 'oucontent', 551119: 'resource', 551162: 'url', 551077: 'page', 551159: 'url', 551045: 'oucontent', 551074: 'page', 551147: 'resource', 551154: 'resource', 551041: 'oucontent', 551071: 'oucontent', 551143: 'resource', 551150: 'resource', 551038: 'oucontent', 551068: 'oucontent', 551140: 'resource', 551035: 'oucontent', 551065: 'oucontent', 551136: 'resource', 551031: 'oucontent', 551062: 'oucontent', 551133: 'resource', 551027: 'oucontent', 551059: 'oucontent', 551130: 'resource', 551177: 'dualpane', 551023: 'oucontent', 551056: 'oucontent', 551127: 'resource', 551172: 'subpage', 551019: 'oucontent', 551053: 'oucontent', 551124: 'resource', 551169: 'subpage', 551013: 'forumng', 551050: 'oucontent', 551121: 'resource', 551166: 'url', 551010: 'homepage', 551079: 'quiz', 551161: 'url', 551047: 'oucontent', 551076: 'page', 551149: 'resource', 551158: 'url', 551044: 'oucontent', 551073: 'ouwiki', 551145: 'resource', 551152: 'resource', 551040: 'oucontent', 551070: 'oucontent', 551142: 'resource', 551037: 'oucontent', 551067: 'oucontent', 551139: 'resource', 551033: 'oucontent', 551064: 'oucontent', 551135: 'resource', 551029: 'oucontent', 551061: 'oucontent', 551132: 'resource', 551026: 'oucontent', 551058: 'oucontent', 551129: 'resource', 551175: 'oucollaborate', 551021: 'oucontent', 790923: 'subpage', 790831: 'oucontent', 790873: 'resource', 790908: 'resource', 790828: 'oucontent', 790870: 'page', 790904: 'resource', 790825: 'oucontent', 790866: 'ouwiki', 790900: 'resource', 790822: 'oucontent', 790861: 'oucontent', 790896: 'resource', 790819: 'oucontent', 790854: 'oucontent', 790893: 'resource', 936763: 'url', 790815: 'oucontent', 790849: 'oucontent', 790890: 'resource', 924383: 'forumng', 790812: 'oucontent', 790846: 'oucontent', 790886: 'resource', 790939: 'oucollaborate', 790809: 'quiz', 790843: 'oucontent', 790936: 'url', 790739: 'forumng', 790839: 'oucontent', 790882: 'resource', 790932: 'url', 790732: 'homepage', 790836: 'oucontent', 790879: 'resource', 790925: 'subpage', 790833: 'oucontent', 790875: 'resource', 790922: 'subpage', 790830: 'oucontent', 790872: 'resource', 790907: 'resource', 790827: 'oucontent', 790869: 'page', 790903: 'resource', 790824: 'oucontent', 790863: 'ouwiki', 790899: 'resource', 790821: 'oucontent', 790856: 'oucontent', 790895: 'resource', 790818: 'oucontent', 790853: 'oucontent', 790892: 'resource', 924388: 'resource', 790814: 'oucontent', 790848: 'oucontent', 790888: 'resource', 790941: 'dualpane', 790811: 'oucontent', 790845: 'oucontent', 790938: 'url', 790808: 'quiz', 790842: 'oucontent', 790885: 'resource', 790934: 'url', 790738: 'forumng', 790838: 'oucontent', 790881: 'resource', 790927: 'subpage', 790835: 'oucontent', 790878: 'resource', 790924: 'subpage', 790832: 'oucontent', 790874: 'resource', 790921: 'subpage', 790829: 'oucontent', 790871: 'page', 790905: 'resource', 790826: 'oucontent', 790868: 'page', 790901: 'resource', 790823: 'oucontent', 790862: 'oucontent', 790897: 'resource', 790820: 'oucontent', 790855: 'oucontent', 790894: 'resource', 790816: 'oucontent', 790850: 'oucontent', 790891: 'resource', 924387: 'oucontent', 790813: 'oucontent', 790847: 'oucontent', 790887: 'resource', 790940: 'oucollaborate', 790810: 'oucontent', 790844: 'oucontent', 790937: 'url', 790740: 'forumng', 790841: 'oucontent', 790884: 'resource', 790933: 'url', 790737: 'forumng', 790837: 'oucontent', 790880: 'resource', 790926: 'subpage', 790834: 'oucontent', 790877: 'resource', 832664: 'oucontent', 832716: 'resource', 832754: 'resource', 832661: 'oucontent', 832712: 'quiz', 832751: 'resource', 832658: 'oucontent', 832708: 'page', 832748: 'resource', 1077905: 'url', 832655: 'oucontent', 832701: 'oucontent', 832745: 'resource', 1071060: 'forumng', 832649: 'oucontent', 832694: 'oucontent', 832742: 'resource', 973720: 'ouwiki', 832642: 'oucontent', 832687: 'oucontent', 832739: 'resource', 832783: 'url', 832638: 'oucontent', 832680: 'oucontent', 832736: 'resource', 832780: 'url', 832568: 'forumng', 832675: 'oucontent', 832733: 'resource', 832776: 'oucollaborate', 832565: 'homepage', 832672: 'oucontent', 832730: 'resource', 832763: 'subpage', 832669: 'oucontent', 832727: 'resource', 832760: 'subpage', 832666: 'oucontent', 832718: 'resource', 832756: 'resource', 832663: 'oucontent', 832715: 'resource', 832753: 'resource', 832660: 'oucontent', 832711: 'page', 832750: 'resource', 832657: 'oucontent', 832706: 'ouwiki', 832747: 'resource', 1076553: 'oucontent', 832654: 'oucontent', 832700: 'oucontent', 832744: 'resource', 988994: 'oucollaborate', 832644: 'oucontent', 832692: 'oucontent', 832741: 'resource', 973719: 'ouwiki', 832641: 'oucontent', 832685: 'oucontent', 832738: 'resource', 832782: 'url', 832637: 'oucontent', 832679: 'oucontent', 832735: 'resource', 832779: 'url', 832567: 'forumng', 832674: 'oucontent', 832732: 'resource', 832775: 'oucollaborate', 832671: 'oucontent', 832729: 'resource', 832762: 'subpage', 832668: 'oucontent', 832726: 'resource', 832758: 'subpage', 832665: 'oucontent', 832717: 'resource', 832755: 'resource', 832662: 'oucontent', 832713: 'quiz', 832752: 'resource', 832659: 'oucontent', 832709: 'page', 832749: 'resource', 832656: 'oucontent', 832704: 'oucontent', 832746: 'resource', 1073191: 'resource', 832651: 'oucontent', 832695: 'oucontent', 832743: 'resource', 988993: 'oucollaborate', 832643: 'oucontent', 832691: 'oucontent', 832740: 'resource', 832784: 'dualpane', 832639: 'oucontent', 832682: 'oucontent', 832737: 'resource', 832781: 'url', 832569: 'forumng', 832676: 'oucontent', 832734: 'resource', 832777: 'url', 832566: 'forumng', 832673: 'oucontent', 832731: 'resource', 832764: 'subpage', 832670: 'oucontent', 832728: 'resource', 832761: 'subpage', 832667: 'oucontent', 832725: 'resource', 832757: 'subpage', 527494: 'resource', 527181: 'subpage', 526812: 'oucontent', 527352: 'url', 527216: 'subpage', 527386: 'resource', 527253: 'url', 527427: 'resource', 527109: 'quiz', 526745: 'oucontent', 527285: 'url', 527462: 'resource', 527142: 'page', 526779: 'oucontent', 527317: 'url', 527491: 'resource', 527178: 'subpage', 526809: 'oucontent', 527349: 'url', 527526: 'dataplus', 527213: 'subpage', 527383: 'resource', 527250: 'url', 527424: 'resource', 527106: 'quiz', 526742: 'oucontent', 527282: 'url', 527459: 'resource', 527139: 'page', 526776: 'oucontent', 527314: 'url', 527175: 'subpage', 526806: 'oucontent', 527345: 'url', 527523: 'dataplus', 527210: 'subpage', 527380: 'resource', 527247: 'url', 527421: 'resource', 526861: 'oucontent', 526739: 'forumng', 527279: 'url', 527456: 'resource', 527136: 'page', 526773: 'oucontent', 527311: 'url', 527488: 'resource', 527171: 'subpage', 526802: 'oucontent', 527342: 'url', 527519: 'ouelluminate', 527207: 'subpage', 527377: 'resource', 527244: 'url', 527418: 'resource', 526858: 'oucontent', 526735: 'forumng', 527276: 'url', 527453: 'resource', 527133: 'page', 526770: 'oucontent', 527308: 'url', 527485: 'resource', 527167: 'ouwiki', 526799: 'oucontent', 527338: 'url', 527516: 'ouelluminate', 527204: 'subpage', 527374: 'resource', 527241: 'url', 527415: 'resource', 526855: 'oucontent', 527273: 'url', 527450: 'resource', 527130: 'questionnaire', 526767: 'oucontent', 527305: 'url', 527482: 'resource', 527163: 'ouwiki', 526796: 'oucontent', 527334: 'url', 527513: 'ouelluminate', 527198: 'subpage', 527370: 'resource', 527238: 'url', 527412: 'resource', 526852: 'oucontent', 527270: 'url', 527446: 'resource', 527127: 'questionnaire', 526764: 'oucontent', 527302: 'url', 527479: 'resource', 526793: 'oucontent', 527331: 'url', 527510: 'ouelluminate', 527195: 'subpage', 527367: 'resource', 527234: 'url', 527407: 'resource', 526848: 'oucontent', 527267: 'url', 527442: 'resource', 527124: 'questionnaire', 526761: 'oucontent', 527299: 'url', 527476: 'resource', 527158: 'page', 526790: 'oucontent', 527328: 'url', 527507: 'ouelluminate', 527192: 'subpage', 526826: 'oucontent', 527364: 'resource', 527231: 'subpage', 527398: 'resource', 527404: 'resource', 526845: 'oucontent', 527264: 'url', 527439: 'resource', 527121: 'questionnaire', 526757: 'oucontent', 527296: 'url', 527473: 'resource', 527155: 'page', 527504: 'dualpane', 527189: 'subpage', 526823: 'oucontent', 527360: 'url', 527225: 'subpage', 527395: 'resource', 527401: 'resource', 526839: 'oucontent', 527261: 'url', 527436: 'resource', 527118: 'questionnaire', 526754: 'oucontent', 527293: 'url', 527470: 'resource', 527152: 'page', 526787: 'oucontent', 527325: 'url', 527501: 'dualpane', 527186: 'subpage', 526820: 'oucontent', 527357: 'url', 527222: 'subpage', 527392: 'resource', 526835: 'oucontent', 527258: 'url', 527432: 'resource', 527115: 'quiz', 526751: 'oucontent', 527290: 'url', 527467: 'resource', 527148: 'page', 526784: 'oucontent', 527322: 'url', 527496: 'resource', 527183: 'subpage', 526817: 'oucontent', 527354: 'url', 527218: 'subpage', 527389: 'resource', 526831: 'oucontent', 527255: 'url', 527429: 'resource', 527112: 'quiz', 526747: 'oucontent', 527287: 'url', 527464: 'resource', 527145: 'page', 526781: 'oucontent', 527319: 'url', 527493: 'resource', 527180: 'subpage', 526811: 'oucontent', 527351: 'url', 527215: 'subpage', 527385: 'resource', 527252: 'url', 527426: 'resource', 527108: 'quiz', 526744: 'oucontent', 527284: 'url', 527461: 'resource', 527141: 'page', 526778: 'oucontent', 527316: 'url', 527177: 'subpage', 526808: 'oucontent', 527348: 'url', 527525: 'dataplus', 527212: 'subpage', 527382: 'resource', 527249: 'url', 527423: 'resource', 527105: 'quiz', 526741: 'oucontent', 527281: 'url', 527458: 'resource', 527138: 'page', 526775: 'oucontent', 527313: 'url', 527490: 'resource', 527174: 'subpage', 526805: 'oucontent', 527344: 'url', 527521: 'ouelluminate', 527209: 'subpage', 527379: 'resource', 527246: 'url', 527420: 'resource', 526860: 'oucontent', 526738: 'forumng', 527278: 'url', 527455: 'resource', 527135: 'page', 526772: 'oucontent', 527310: 'url', 527487: 'resource', 527170: 'subpage', 526801: 'oucontent', 527341: 'url', 527518: 'ouelluminate', 527206: 'subpage', 527376: 'resource', 527243: 'url', 527417: 'resource', 526857: 'oucontent', 526733: 'forumng', 527275: 'url', 527452: 'resource', 527132: 'page', 526769: 'oucontent', 527307: 'url', 527484: 'resource', 527165: 'ouwiki', 526798: 'oucontent', 527336: 'url', 527515: 'ouelluminate', 527203: 'subpage', 527372: 'resource', 527240: 'url', 527414: 'resource', 526854: 'oucontent', 527272: 'url', 527448: 'resource', 527129: 'questionnaire', 526766: 'oucontent', 527304: 'url', 527481: 'resource', 526795: 'oucontent', 527333: 'url', 527512: 'ouelluminate', 527197: 'subpage', 527369: 'resource', 527237: 'url', 527411: 'resource', 526850: 'oucontent', 527269: 'url', 527444: 'resource', 527126: 'questionnaire', 526763: 'oucontent', 527301: 'url', 527478: 'resource', 527162: 'ouwiki', 526792: 'oucontent', 527330: 'url', 527509: 'ouelluminate', 527194: 'subpage', 526830: 'oucontent', 527366: 'resource', 527233: 'url', 527400: 'resource', 527406: 'resource', 526847: 'oucontent', 527266: 'url', 527441: 'resource', 527123: 'questionnaire', 526760: 'oucontent', 527298: 'url', 527475: 'resource', 527157: 'page', 527506: 'ouelluminate', 527191: 'subpage', 526825: 'oucontent', 527363: 'resource', 527230: 'subpage', 527397: 'resource', 527403: 'resource', 526844: 'oucontent', 527263: 'url', 527438: 'resource', 527120: 'questionnaire', 526756: 'oucontent', 527295: 'url', 527472: 'resource', 527154: 'page', 526789: 'oucontent', 527327: 'url', 527503: 'dualpane', 527188: 'subpage', 526822: 'oucontent', 527359: 'url', 527224: 'subpage', 527394: 'resource', 526838: 'oucontent', 527260: 'url', 527434: 'resource', 527117: 'questionnaire', 526753: 'oucontent', 527292: 'url', 527469: 'resource', 527150: 'page', 526786: 'oucontent', 527324: 'url', 527499: 'dualpane', 527185: 'subpage', 526819: 'oucontent', 527356: 'url', 527221: 'subpage', 527391: 'resource', 526834: 'oucontent', 527257: 'url', 527431: 'resource', 527114: 'quiz', 526749: 'oucontent', 527289: 'url', 527466: 'resource', 527147: 'page', 526783: 'oucontent', 527321: 'url', 527495: 'resource', 527182: 'subpage', 526813: 'oucontent', 527353: 'url', 527217: 'subpage', 527388: 'resource', 527254: 'url', 527428: 'resource', 527111: 'quiz', 526746: 'oucontent', 527286: 'url', 527463: 'resource', 527144: 'page', 526780: 'oucontent', 527318: 'url', 527492: 'resource', 527179: 'subpage', 526810: 'oucontent', 527350: 'url', 527527: 'dataplus', 527214: 'subpage', 527384: 'resource', 527251: 'url', 527425: 'resource', 527107: 'quiz', 526743: 'oucontent', 527283: 'url', 527460: 'resource', 527140: 'page', 526777: 'oucontent', 527315: 'url', 527176: 'subpage', 526807: 'oucontent', 527346: 'url', 527524: 'dataplus', 527211: 'subpage', 527381: 'resource', 527248: 'url', 527422: 'resource', 526862: 'oucontent', 526740: 'glossary', 527280: 'url', 527457: 'resource', 527137: 'page', 526774: 'oucontent', 527312: 'url', 527489: 'resource', 527173: 'subpage', 526804: 'oucontent', 527343: 'url', 527520: 'ouelluminate', 527208: 'subpage', 527378: 'resource', 527245: 'url', 527419: 'resource', 526859: 'oucontent', 526737: 'forumng', 527277: 'url', 527454: 'resource', 527134: 'page', 526771: 'oucontent', 527309: 'url', 527486: 'resource', 527169: 'subpage', 526800: 'oucontent', 527340: 'url', 527517: 'ouelluminate', 527205: 'subpage', 527375: 'resource', 527242: 'url', 527416: 'resource', 526856: 'oucontent', 526721: 'homepage', 527274: 'url', 527451: 'resource', 527131: 'page', 526768: 'oucontent', 527306: 'url', 527483: 'resource', 527164: 'ouwiki', 526797: 'oucontent', 527335: 'url', 527514: 'ouelluminate', 527199: 'subpage', 527371: 'resource', 527239: 'url', 527413: 'resource', 526853: 'oucontent', 527271: 'url', 527447: 'resource', 527128: 'questionnaire', 526765: 'oucontent', 527303: 'url', 527480: 'resource', 526794: 'oucontent', 527332: 'url', 527511: 'ouelluminate', 527196: 'subpage', 527368: 'resource', 527236: 'url', 527410: 'resource', 526849: 'oucontent', 527268: 'url', 527443: 'resource', 527125: 'questionnaire', 526762: 'oucontent', 527300: 'url', 527477: 'resource', 527160: 'ouwiki', 526791: 'oucontent', 527329: 'url', 527508: 'ouelluminate', 527193: 'subpage', 526827: 'oucontent', 527365: 'resource', 527232: 'url', 527399: 'resource', 527405: 'resource', 526846: 'oucontent', 527265: 'url', 527440: 'resource', 527122: 'questionnaire', 526759: 'oucontent', 527297: 'url', 527474: 'resource', 527156: 'page', 527505: 'dualpane', 527190: 'subpage', 526824: 'oucontent', 527362: 'resource', 527228: 'subpage', 527396: 'resource', 527402: 'resource', 526841: 'oucontent', 527262: 'url', 527437: 'resource', 527119: 'questionnaire', 526755: 'oucontent', 527294: 'url', 527471: 'resource', 527153: 'page', 526788: 'oucontent', 527326: 'url', 527502: 'dualpane', 527187: 'subpage', 526821: 'oucontent', 527358: 'url', 527223: 'subpage', 527393: 'resource', 526837: 'oucontent', 527259: 'url', 527433: 'resource', 527116: 'quiz', 526752: 'oucontent', 527291: 'url', 527468: 'resource', 527149: 'page', 526785: 'oucontent', 527323: 'url', 527497: 'resource', 527184: 'subpage', 526818: 'oucontent', 527355: 'url', 527219: 'subpage', 527390: 'resource', 526833: 'oucontent', 527256: 'url', 527430: 'resource', 527113: 'quiz', 526748: 'oucontent', 527288: 'url', 527465: 'resource', 527146: 'page', 526782: 'oucontent', 527320: 'url', 716742: 'resource', 716914: 'url', 716385: 'ouwiki', 716776: 'resource', 716245: 'oucontent', 716946: 'url', 716251: 'oucontent', 716638: 'subpage', 716817: 'resource', 716980: 'oucollaborate', 716284: 'oucontent', 716670: 'subpage', 716849: 'url', 716317: 'oucontent', 716705: 'resource', 716882: 'url', 716350: 'page', 716911: 'url', 716380: 'ouwiki', 716772: 'resource', 716242: 'oucontent', 716943: 'url', 716248: 'oucontent', 716635: 'subpage', 716814: 'resource', 716977: 'oucollaborate', 716281: 'oucontent', 716667: 'subpage', 716846: 'url', 716313: 'oucontent', 716701: 'resource', 716879: 'url', 716347: 'oucontent', 716738: 'resource', 716908: 'url', 716377: 'ouwiki', 716769: 'resource', 716239: 'oucontent', 716940: 'url', 716453: 'questionnaire', 716811: 'resource', 716974: 'oucollaborate', 716278: 'oucontent', 716664: 'subpage', 716843: 'url', 716310: 'oucontent', 716698: 'resource', 716876: 'url', 716344: 'oucontent', 716735: 'resource', 716905: 'url', 716373: 'page', 716766: 'resource', 716223: 'forumng', 716937: 'url', 716450: 'questionnaire', 716808: 'resource', 716971: 'url', 716275: 'oucontent', 716661: 'subpage', 716840: 'url', 716307: 'oucontent', 716695: 'resource', 716873: 'url', 716341: 'oucontent', 716732: 'resource', 716902: 'url', 716370: 'page', 716762: 'resource', 716220: 'forumng', 716934: 'url', 716447: 'questionnaire', 716805: 'resource', 716968: 'url', 716272: 'oucontent', 716658: 'subpage', 716837: 'resource', 717017: 'dataplus', 716304: 'oucontent', 716692: 'resource', 716870: 'url', 716338: 'oucontent', 716728: 'resource', 716899: 'url', 716367: 'page', 716759: 'resource', 716216: 'forumng', 716931: 'url', 716444: 'questionnaire', 716802: 'resource', 716963: 'url', 716269: 'oucontent', 716655: 'subpage', 716834: 'resource', 717014: 'dataplus', 716301: 'oucontent', 716688: 'subpage', 716867: 'url', 716335: 'oucontent', 716725: 'resource', 716364: 'page', 716756: 'resource', 716928: 'url', 716441: 'quiz', 716796: 'resource', 716960: 'url', 716266: 'oucontent', 716652: 'subpage', 716831: 'resource', 716994: 'dualpane', 716298: 'oucontent', 716685: 'subpage', 716864: 'url', 716332: 'oucontent', 716722: 'resource', 716896: 'url', 716361: 'page', 716753: 'resource', 716925: 'url', 716438: 'quiz', 716793: 'resource', 716957: 'url', 716262: 'oucontent', 716649: 'subpage', 716828: 'resource', 716991: 'dualpane', 716295: 'oucontent', 716682: 'subpage', 716861: 'url', 716328: 'oucontent', 716719: 'resource', 716893: 'url', 716358: 'page', 716750: 'resource', 716922: 'url', 716435: 'quiz', 716790: 'resource', 716954: 'url', 716259: 'oucontent', 716646: 'subpage', 716825: 'resource', 716988: 'oucollaborate', 716292: 'oucontent', 716679: 'subpage', 716858: 'url', 716325: 'oucontent', 716715: 'resource', 716890: 'url', 716355: 'page', 716747: 'resource', 716919: 'url', 716432: 'quiz', 716781: 'resource', 716787: 'resource', 716951: 'url', 716256: 'oucontent', 716643: 'subpage', 716822: 'resource', 716985: 'oucollaborate', 716289: 'oucontent', 716675: 'subpage', 716854: 'url', 716322: 'oucontent', 716711: 'resource', 716887: 'url', 716744: 'resource', 716916: 'url', 716420: 'repeatactivity', 716778: 'resource', 716784: 'resource', 716948: 'url', 716253: 'oucontent', 716640: 'subpage', 716819: 'resource', 716982: 'oucollaborate', 716286: 'oucontent', 716672: 'subpage', 716851: 'url', 716319: 'oucontent', 716707: 'resource', 716884: 'url', 716352: 'page', 716741: 'resource', 716913: 'url', 716384: 'ouwiki', 716775: 'resource', 716244: 'oucontent', 716945: 'url', 716250: 'oucontent', 716637: 'subpage', 716816: 'resource', 716979: 'oucollaborate', 716283: 'oucontent', 716669: 'subpage', 716848: 'url', 716315: 'oucontent', 716704: 'resource', 716881: 'url', 716349: 'page', 716910: 'url', 716379: 'ouwiki', 716771: 'resource', 716241: 'oucontent', 716942: 'url', 716247: 'oucontent', 716455: 'questionnaire', 716813: 'resource', 716976: 'oucollaborate', 716280: 'oucontent', 716666: 'subpage', 716845: 'url', 716312: 'oucontent', 716700: 'resource', 716878: 'url', 716346: 'oucontent', 716737: 'resource', 716907: 'url', 716376: 'ouwiki', 716768: 'resource', 716238: 'homepage', 716939: 'url', 716452: 'questionnaire', 716810: 'resource', 716973: 'url', 716277: 'oucontent', 716663: 'subpage', 716842: 'url', 716309: 'oucontent', 716697: 'resource', 716875: 'url', 716343: 'oucontent', 716734: 'resource', 716904: 'url', 716372: 'page', 716765: 'resource', 716222: 'forumng', 716936: 'url', 716449: 'questionnaire', 716807: 'resource', 716970: 'url', 716274: 'oucontent', 716660: 'subpage', 716839: 'url', 716306: 'oucontent', 716694: 'resource', 716872: 'url', 716340: 'oucontent', 716730: 'resource', 716901: 'url', 716369: 'page', 716761: 'resource', 716219: 'forumng', 716933: 'url', 716446: 'questionnaire', 716804: 'resource', 716967: 'url', 716271: 'oucontent', 716657: 'subpage', 716836: 'resource', 717016: 'dataplus', 716303: 'oucontent', 716690: 'subpage', 716869: 'url', 716337: 'oucontent', 716727: 'resource', 716366: 'page', 716758: 'resource', 716215: 'glossary', 716930: 'url', 716443: 'questionnaire', 716800: 'resource', 716962: 'url', 716268: 'oucontent', 716654: 'subpage', 716833: 'resource', 717013: 'dataplus', 716300: 'oucontent', 716687: 'subpage', 716866: 'url', 716334: 'oucontent', 716724: 'resource', 716898: 'url', 716363: 'page', 716755: 'resource', 716927: 'url', 716440: 'quiz', 716795: 'resource', 716959: 'url', 716265: 'oucontent', 716651: 'subpage', 716830: 'resource', 716993: 'dualpane', 716297: 'oucontent', 716684: 'subpage', 716863: 'url', 716330: 'oucontent', 716721: 'resource', 716895: 'url', 716360: 'page', 716752: 'resource', 716924: 'url', 716437: 'quiz', 716792: 'resource', 716956: 'url', 716261: 'oucontent', 716648: 'subpage', 716827: 'resource', 716990: 'dualpane', 716294: 'oucontent', 716681: 'subpage', 716860: 'url', 716327: 'oucontent', 716717: 'resource', 716892: 'url', 716357: 'page', 716749: 'resource', 716921: 'url', 716434: 'quiz', 716783: 'resource', 716789: 'resource', 716953: 'url', 716258: 'oucontent', 716645: 'subpage', 716824: 'resource', 716987: 'oucollaborate', 716291: 'oucontent', 716678: 'subpage', 716856: 'url', 716324: 'oucontent', 716714: 'resource', 716889: 'url', 716354: 'page', 716746: 'resource', 716918: 'url', 716431: 'quiz', 716780: 'resource', 716786: 'resource', 716950: 'url', 716255: 'oucontent', 716642: 'subpage', 716821: 'resource', 716984: 'oucollaborate', 716288: 'oucontent', 716674: 'subpage', 716853: 'url', 716321: 'oucontent', 716709: 'resource', 716886: 'url', 716743: 'resource', 716915: 'url', 716409: 'repeatactivity', 716777: 'resource', 716246: 'oucontent', 716947: 'url', 716252: 'oucontent', 716639: 'subpage', 716818: 'resource', 716981: 'oucollaborate', 716285: 'oucontent', 716671: 'subpage', 716850: 'url', 716318: 'oucontent', 716706: 'resource', 716883: 'url', 716351: 'page', 716912: 'url', 716383: 'ouwiki', 716773: 'resource', 716243: 'oucontent', 716944: 'url', 716249: 'oucontent', 716636: 'subpage', 716815: 'resource', 716978: 'oucollaborate', 716282: 'oucontent', 716668: 'subpage', 716847: 'url', 716314: 'oucontent', 716703: 'resource', 716880: 'url', 716348: 'oucontent', 716740: 'resource', 716909: 'url', 716378: 'ouwiki', 716770: 'resource', 716240: 'oucontent', 716941: 'url', 716454: 'questionnaire', 716812: 'resource', 716975: 'oucollaborate', 716279: 'oucontent', 716665: 'subpage', 716844: 'url', 716311: 'oucontent', 716699: 'resource', 716877: 'url', 716345: 'oucontent', 716736: 'resource', 716906: 'url', 716375: 'page', 716767: 'resource', 716237: 'folder', 716938: 'url', 716451: 'questionnaire', 716809: 'resource', 716972: 'url', 716276: 'oucontent', 716662: 'subpage', 716841: 'url', 716308: 'oucontent', 716696: 'resource', 716874: 'url', 716342: 'oucontent', 716733: 'resource', 716903: 'url', 716371: 'page', 716763: 'resource', 716221: 'forumng', 716935: 'url', 716448: 'questionnaire', 716806: 'resource', 716969: 'url', 716273: 'oucontent', 716659: 'subpage', 716838: 'resource', 716305: 'oucontent', 716693: 'resource', 716871: 'url', 716339: 'oucontent', 716729: 'resource', 716900: 'url', 716368: 'page', 716760: 'resource', 716217: 'forumng', 716932: 'url', 716445: 'questionnaire', 716803: 'resource', 716966: 'url', 716270: 'oucontent', 716656: 'subpage', 716835: 'resource', 717015: 'dataplus', 716302: 'oucontent', 716689: 'subpage', 716868: 'url', 716336: 'oucontent', 716726: 'resource', 716365: 'page', 716757: 'resource', 716929: 'url', 716442: 'questionnaire', 716798: 'resource', 716961: 'url', 716267: 'oucontent', 716653: 'subpage', 716832: 'resource', 716995: 'dualpane', 716299: 'oucontent', 716686: 'subpage', 716865: 'url', 716333: 'oucontent', 716723: 'resource', 716897: 'url', 716362: 'page', 716754: 'resource', 716926: 'url', 716439: 'quiz', 716794: 'resource', 716958: 'url', 716263: 'oucontent', 716650: 'subpage', 716829: 'resource', 716992: 'dualpane', 716296: 'oucontent', 716683: 'subpage', 716862: 'url', 716329: 'oucontent', 716720: 'resource', 716894: 'url', 716359: 'page', 716751: 'resource', 716923: 'url', 716436: 'quiz', 716791: 'resource', 716955: 'url', 716260: 'oucontent', 716647: 'subpage', 716826: 'resource', 716989: 'oucollaborate', 716293: 'oucontent', 716680: 'subpage', 716859: 'url', 716326: 'oucontent', 716716: 'resource', 716891: 'url', 716356: 'page', 716748: 'resource', 716920: 'url', 716433: 'quiz', 716782: 'resource', 716788: 'resource', 716952: 'url', 716257: 'oucontent', 716644: 'subpage', 716823: 'resource', 716986: 'oucollaborate', 716290: 'oucontent', 716676: 'subpage', 716855: 'url', 716323: 'oucontent', 716712: 'resource', 716888: 'url', 716745: 'resource', 716917: 'url', 716423: 'repeatactivity', 716779: 'resource', 716785: 'resource', 716949: 'url', 716254: 'oucontent', 716641: 'subpage', 716820: 'resource', 716983: 'oucollaborate', 716287: 'oucontent', 716673: 'subpage', 716852: 'url', 716320: 'oucontent', 716708: 'resource', 716885: 'url', 716353: 'page', 779436: 'oucontent', 779649: 'subpage', 779814: 'url', 779072: 'forumng', 779481: 'resource', 779684: 'oucollaborate', 779331: 'oucontent', 779524: 'resource', 779717: 'url', 779366: 'oucontent', 779564: 'resource', 779750: 'url', 779399: 'oucontent', 779614: 'resource', 779782: 'url', 779431: 'oucontent', 779645: 'subpage', 779811: 'url', 779477: 'resource', 779681: 'dataplus', 779281: 'questionnaire', 779521: 'resource', 779714: 'url', 779363: 'oucontent', 779561: 'resource', 779747: 'url', 779396: 'oucontent', 779610: 'resource', 779779: 'url', 779428: 'oucontent', 779642: 'subpage', 779808: 'url', 779474: 'page', 779677: 'dataplus', 779278: 'questionnaire', 779516: 'resource', 779711: 'url', 779360: 'oucontent', 779558: 'resource', 779744: 'url', 779393: 'oucontent', 779607: 'resource', 779776: 'url', 779639: 'subpage', 779805: 'url', 779465: 'page', 779674: 'subpage', 779275: 'questionnaire', 779513: 'resource', 779708: 'url', 779357: 'oucontent', 779555: 'resource', 779741: 'url', 779390: 'oucontent', 779595: 'resource', 779773: 'url', 779424: 'oucontent', 779636: 'subpage', 779802: 'url', 779462: 'page', 779671: 'subpage', 779840: 'dualpane', 779272: 'questionnaire', 779510: 'resource', 779705: 'url', 779354: 'oucontent', 779552: 'resource', 779737: 'url', 779387: 'oucontent', 779592: 'resource', 779770: 'url', 779421: 'oucontent', 779633: 'subpage', 779799: 'url', 779459: 'page', 779666: 'subpage', 779834: 'url', 779269: 'quiz', 779501: 'resource', 779507: 'resource', 779702: 'url', 779351: 'oucontent', 779549: 'resource', 779734: 'url', 779384: 'oucontent', 779589: 'resource', 779767: 'url', 779417: 'oucontent', 779630: 'subpage', 779796: 'url', 779453: 'page', 779663: 'subpage', 779831: 'url', 779266: 'quiz', 779498: 'resource', 779504: 'resource', 779699: 'url', 779347: 'oucontent', 779545: 'resource', 779731: 'url', 779381: 'oucontent', 779586: 'resource', 779764: 'url', 779414: 'oucontent', 779626: 'subpage', 779793: 'url', 779450: 'page', 779660: 'subpage', 779826: 'url', 779263: 'quiz', 779495: 'resource', 779695: 'oucollaborate', 779344: 'oucontent', 779538: 'resource', 779728: 'url', 779378: 'oucontent', 779583: 'resource', 779761: 'url', 779411: 'oucontent', 779790: 'url', 779446: 'ouwiki', 779657: 'subpage', 779822: 'url', 779260: 'quiz', 779492: 'resource', 779692: 'oucollaborate', 779341: 'oucontent', 779534: 'resource', 779725: 'url', 779375: 'oucontent', 779580: 'resource', 779758: 'url', 779408: 'oucontent', 779623: 'subpage', 779787: 'url', 779441: 'ouwiki', 779654: 'subpage', 779819: 'url', 779088: 'folder', 779489: 'resource', 779689: 'oucollaborate', 779336: 'oucontent', 779530: 'resource', 779722: 'url', 779371: 'oucontent', 779571: 'resource', 779755: 'url', 779405: 'oucontent', 779620: 'subpage', 779438: 'oucontent', 779651: 'subpage', 779816: 'url', 779076: 'forumng', 779483: 'resource', 779686: 'oucollaborate', 779333: 'oucontent', 779526: 'resource', 779719: 'url', 779368: 'oucontent', 779568: 'resource', 779752: 'url', 779401: 'oucontent', 779616: 'resource', 779784: 'url', 779435: 'oucontent', 779648: 'subpage', 779813: 'url', 779071: 'glossary', 779479: 'resource', 779683: 'oucollaborate', 779283: 'questionnaire', 779523: 'resource', 779716: 'url', 779365: 'oucontent', 779563: 'resource', 779749: 'url', 779398: 'oucontent', 779613: 'resource', 779781: 'url', 779430: 'oucontent', 779644: 'subpage', 779810: 'url', 779476: 'page', 779679: 'dataplus', 779280: 'questionnaire', 779518: 'resource', 779713: 'url', 779362: 'oucontent', 779560: 'resource', 779746: 'url', 779395: 'oucontent', 779609: 'resource', 779778: 'url', 779427: 'oucontent', 779641: 'subpage', 779807: 'url', 779467: 'page', 779676: 'dataplus', 779277: 'questionnaire', 779515: 'resource', 779710: 'url', 779359: 'oucontent', 779557: 'resource', 779743: 'url', 779392: 'oucontent', 779606: 'resource', 779775: 'url', 779638: 'subpage', 779804: 'url', 779464: 'page', 779673: 'subpage', 924225: 'oucollaborate', 779274: 'questionnaire', 779512: 'resource', 779707: 'url', 779356: 'oucontent', 779554: 'resource', 779740: 'url', 779389: 'oucontent', 779594: 'resource', 779772: 'url', 779423: 'oucontent', 779635: 'subpage', 779801: 'url', 779461: 'page', 779670: 'subpage', 779839: 'dualpane', 779271: 'questionnaire', 779503: 'resource', 779509: 'resource', 779704: 'url', 779353: 'oucontent', 779551: 'resource', 779736: 'url', 779386: 'oucontent', 779591: 'resource', 779769: 'url', 779420: 'oucontent', 779632: 'subpage', 779798: 'url', 779456: 'page', 779665: 'subpage', 779833: 'url', 779268: 'quiz', 779500: 'resource', 779506: 'resource', 779701: 'url', 779349: 'oucontent', 779548: 'resource', 779733: 'url', 779383: 'oucontent', 779588: 'resource', 779766: 'url', 779416: 'oucontent', 779629: 'subpage', 779795: 'url', 779452: 'page', 779662: 'subpage', 779830: 'url', 779265: 'quiz', 779497: 'resource', 779697: 'url', 779346: 'oucontent', 779540: 'resource', 779730: 'url', 779380: 'oucontent', 779585: 'resource', 779763: 'url', 779413: 'oucontent', 779625: 'subpage', 779792: 'url', 779449: 'ouwiki', 779659: 'subpage', 779825: 'url', 779262: 'quiz', 779494: 'resource', 779694: 'oucollaborate', 779343: 'oucontent', 779537: 'resource', 779727: 'url', 779377: 'oucontent', 779582: 'resource', 779760: 'url', 779410: 'oucontent', 779789: 'url', 779445: 'ouwiki', 779656: 'subpage', 779821: 'url', 779259: 'quiz', 779491: 'resource', 779691: 'oucollaborate', 779339: 'oucontent', 779533: 'resource', 779724: 'url', 779374: 'oucontent', 779575: 'resource', 779757: 'url', 779407: 'oucontent', 779622: 'subpage', 779440: 'oucontent', 779653: 'subpage', 779818: 'url', 779080: 'forumng', 779488: 'resource', 779688: 'oucollaborate', 779335: 'oucontent', 779529: 'resource', 779721: 'url', 779370: 'oucontent', 779570: 'resource', 779754: 'url', 779404: 'oucontent', 779619: 'subpage', 779786: 'url', 779437: 'oucontent', 779650: 'subpage', 779815: 'url', 779075: 'forumng', 779482: 'resource', 779685: 'oucollaborate', 779332: 'oucontent', 779525: 'resource', 779718: 'url', 779367: 'oucontent', 779567: 'resource', 779751: 'url', 779400: 'oucontent', 779615: 'resource', 779783: 'url', 779433: 'oucontent', 779647: 'subpage', 779812: 'url', 779478: 'resource', 779682: 'oucollaborate', 779282: 'questionnaire', 779522: 'resource', 779715: 'url', 779364: 'oucontent', 779562: 'resource', 779748: 'url', 779397: 'oucontent', 779612: 'resource', 779780: 'url', 779429: 'oucontent', 779643: 'subpage', 779809: 'url', 779475: 'page', 779678: 'dataplus', 779279: 'questionnaire', 779517: 'resource', 779712: 'url', 779361: 'oucontent', 779559: 'resource', 779745: 'url', 779394: 'oucontent', 779608: 'resource', 779777: 'url', 779426: 'oucontent', 779640: 'subpage', 779806: 'url', 779466: 'page', 779675: 'subpage', 779276: 'questionnaire', 779514: 'resource', 779709: 'url', 779358: 'oucontent', 779556: 'resource', 779742: 'url', 779391: 'oucontent', 779605: 'resource', 779774: 'url', 779637: 'subpage', 779803: 'url', 779463: 'page', 779672: 'subpage', 924222: 'forumng', 779273: 'questionnaire', 779511: 'resource', 779706: 'url', 779355: 'oucontent', 779553: 'resource', 779738: 'url', 779388: 'oucontent', 779593: 'resource', 779771: 'url', 779422: 'oucontent', 779634: 'subpage', 779800: 'url', 779460: 'page', 779668: 'subpage', 779835: 'dualpane', 779270: 'questionnaire', 779502: 'resource', 779508: 'resource', 779703: 'url', 779352: 'oucontent', 779550: 'resource', 779735: 'url', 779385: 'oucontent', 779590: 'resource', 779768: 'url', 779418: 'oucontent', 779631: 'subpage', 779797: 'url', 779455: 'page', 779664: 'subpage', 779832: 'url', 779267: 'quiz', 779499: 'resource', 779505: 'resource', 779700: 'url', 779348: 'oucontent', 779546: 'resource', 779732: 'url', 779382: 'oucontent', 779587: 'resource', 779765: 'url', 779415: 'oucontent', 779628: 'subpage', 779794: 'url', 779451: 'page', 779661: 'subpage', 779829: 'url', 779264: 'quiz', 779496: 'resource', 779696: 'oucollaborate', 779345: 'oucontent', 779539: 'resource', 779729: 'url', 779379: 'oucontent', 779584: 'resource', 779762: 'url', 779412: 'oucontent', 779791: 'url', 779447: 'ouwiki', 779658: 'subpage', 779823: 'url', 779261: 'quiz', 779493: 'resource', 779693: 'oucollaborate', 779342: 'oucontent', 779536: 'resource', 779726: 'url', 779376: 'oucontent', 779581: 'resource', 779759: 'url', 779409: 'oucontent', 779624: 'subpage', 779788: 'url', 779442: 'ouwiki', 779655: 'subpage', 779820: 'url', 779089: 'homepage', 779490: 'resource', 779690: 'oucollaborate', 779337: 'oucontent', 779532: 'resource', 779723: 'url', 779372: 'oucontent', 779573: 'resource', 779756: 'url', 779406: 'oucontent', 779621: 'subpage', 779439: 'oucontent', 779652: 'subpage', 779817: 'url', 779078: 'forumng', 779487: 'resource', 779687: 'oucollaborate', 779334: 'oucontent', 779527: 'resource', 779720: 'url', 779369: 'oucontent', 779569: 'resource', 779753: 'url', 779402: 'oucontent', 779617: 'resource', 779785: 'url', 883082: 'subpage', 883294: 'url', 882713: 'questionnaire', 883163: 'url', 882561: 'oucontent', 882932: 'resource', 883195: 'url', 882597: 'oucontent', 882985: 'resource', 883228: 'url', 882635: 'oucontent', 883048: 'subpage', 883261: 'url', 882670: 'oucontent', 883079: 'subpage', 883291: 'url', 882710: 'page', 883160: 'oucollaborate', 882558: 'ouwiki', 882925: 'resource', 883192: 'url', 882594: 'oucontent', 882982: 'resource', 883224: 'url', 882632: 'oucontent', 883045: 'subpage', 883257: 'url', 882667: 'oucontent', 883075: 'subpage', 883288: 'url', 882707: 'page', 883157: 'oucollaborate', 882554: 'ouwiki', 882915: 'resource', 882922: 'resource', 883189: 'url', 882591: 'oucontent', 882979: 'resource', 883221: 'url', 882629: 'oucontent', 883041: 'subpage', 883254: 'url', 882664: 'oucontent', 883072: 'subpage', 883285: 'url', 882704: 'page', 883154: 'oucollaborate', 882551: 'forumng', 882912: 'resource', 882919: 'resource', 883186: 'url', 882588: 'oucontent', 882974: 'resource', 883218: 'url', 882625: 'oucontent', 883037: 'subpage', 883251: 'url', 882661: 'oucontent', 883282: 'url', 882699: 'page', 883151: 'oucollaborate', 882547: 'forumng', 882905: 'resource', 883183: 'url', 882585: 'oucontent', 882969: 'resource', 883215: 'url', 882622: 'oucontent', 883027: 'resource', 883248: 'url', 882658: 'oucontent', 883069: 'subpage', 882687: 'page', 883148: 'oucollaborate', 882902: 'resource', 883180: 'url', 882581: 'oucontent', 882956: 'resource', 883212: 'url', 882619: 'oucontent', 883024: 'resource', 883245: 'url', 882655: 'oucontent', 883066: 'subpage', 883279: 'url', 882684: 'page', 883144: 'htmlactivity', 1072239: 'forumng', 882896: 'resource', 883177: 'url', 882578: 'oucontent', 882952: 'resource', 883209: 'url', 882616: 'oucontent', 883017: 'resource', 883242: 'url', 882652: 'oucontent', 883063: 'subpage', 883276: 'url', 882681: 'quiz', 883102: 'repeatactivity', 973777: 'oucontent', 882724: 'questionnaire', 883174: 'url', 882574: 'oucontent', 882948: 'resource', 883206: 'url', 882609: 'oucontent', 883000: 'resource', 883239: 'url', 882649: 'oucontent', 883060: 'subpage', 883273: 'url', 882678: 'quiz', 883091: 'subpage', 937371: 'oucontent', 882721: 'questionnaire', 883171: 'url', 882570: 'oucontent', 882945: 'resource', 883203: 'url', 882606: 'oucontent', 882995: 'resource', 883236: 'url', 882646: 'oucontent', 883057: 'subpage', 883270: 'url', 882675: 'quiz', 883088: 'subpage', 883303: 'dataplus', 882718: 'questionnaire', 883168: 'url', 882566: 'oucontent', 882941: 'resource', 883200: 'url', 882602: 'oucontent', 882990: 'resource', 883233: 'url', 882643: 'oucontent', 883054: 'subpage', 883266: 'url', 883084: 'subpage', 883299: 'dualpane', 882715: 'questionnaire', 883165: 'url', 882563: 'oucontent', 882936: 'resource', 883197: 'url', 882599: 'oucontent', 882987: 'resource', 883230: 'url', 882638: 'oucontent', 883050: 'subpage', 883263: 'url', 882672: 'oucontent', 883081: 'subpage', 883293: 'url', 882712: 'questionnaire', 883162: 'url', 882560: 'oucontent', 882931: 'resource', 883194: 'url', 882596: 'oucontent', 882984: 'resource', 883227: 'url', 882634: 'oucontent', 883047: 'subpage', 883260: 'url', 882669: 'oucontent', 883077: 'subpage', 883290: 'url', 882709: 'page', 883159: 'oucollaborate', 882556: 'ouwiki', 882924: 'resource', 883191: 'url', 882593: 'oucontent', 882981: 'resource', 883223: 'url', 882631: 'oucontent', 883043: 'subpage', 883256: 'url', 882666: 'oucontent', 883074: 'subpage', 883287: 'url', 882706: 'page', 883156: 'oucollaborate', 882553: 'ouwiki', 882914: 'resource', 882921: 'resource', 883188: 'url', 882590: 'oucontent', 882976: 'resource', 883220: 'url', 882628: 'oucontent', 883040: 'subpage', 883253: 'url', 882663: 'oucontent', 883284: 'url', 882703: 'page', 883153: 'oucollaborate', 882550: 'forumng', 882911: 'resource', 882917: 'resource', 883185: 'url', 882587: 'oucontent', 882971: 'resource', 883217: 'url', 882624: 'oucontent', 883036: 'subpage', 883250: 'url', 882660: 'oucontent', 883071: 'subpage', 883281: 'url', 882689: 'page', 883150: 'oucollaborate', 882545: 'forumng', 882904: 'resource', 883182: 'url', 882584: 'oucontent', 882966: 'resource', 883214: 'url', 882621: 'oucontent', 883026: 'resource', 883247: 'url', 882657: 'oucontent', 883068: 'subpage', 882686: 'page', 883147: 'oucollaborate', 882900: 'resource', 883179: 'url', 882580: 'oucontent', 882955: 'resource', 883211: 'url', 882618: 'oucontent', 883023: 'resource', 883244: 'url', 882654: 'oucontent', 883065: 'subpage', 883278: 'url', 882683: 'quiz', 883143: 'htmlactivity', 1011388: 'forumng', 882894: 'resource', 883176: 'url', 882577: 'oucontent', 882951: 'resource', 883208: 'url', 882611: 'oucontent', 883016: 'resource', 883241: 'url', 882651: 'oucontent', 883062: 'subpage', 883275: 'url', 882680: 'quiz', 883099: 'repeatactivity', 941543: 'oucontent', 882723: 'questionnaire', 883173: 'url', 882573: 'oucontent', 882947: 'resource', 883205: 'url', 882608: 'oucontent', 882998: 'resource', 883238: 'url', 882648: 'oucontent', 883059: 'subpage', 883272: 'url', 882677: 'quiz', 883090: 'subpage', 883306: 'dataplus', 882720: 'questionnaire', 883170: 'url', 882569: 'oucontent', 882943: 'resource', 883202: 'url', 882605: 'oucontent', 882993: 'resource', 883235: 'url', 882645: 'oucontent', 883056: 'subpage', 883269: 'url', 883087: 'subpage', 883302: 'dataplus', 882717: 'questionnaire', 883167: 'url', 882565: 'oucontent', 882940: 'resource', 883199: 'url', 882601: 'oucontent', 882989: 'resource', 883232: 'url', 882642: 'oucontent', 883053: 'subpage', 883265: 'url', 882674: 'quiz', 883083: 'subpage', 883295: 'dualpane', 882714: 'questionnaire', 883164: 'url', 882562: 'oucontent', 882935: 'resource', 883196: 'url', 882598: 'oucontent', 882986: 'resource', 883229: 'url', 882636: 'oucontent', 883049: 'subpage', 883262: 'url', 882671: 'oucontent', 883080: 'subpage', 883292: 'url', 882711: 'questionnaire', 883161: 'url', 882559: 'ouwiki', 882926: 'resource', 883193: 'url', 882595: 'oucontent', 882983: 'resource', 883226: 'url', 882633: 'oucontent', 883046: 'subpage', 883259: 'url', 882668: 'oucontent', 883076: 'subpage', 883289: 'url', 882708: 'page', 883158: 'oucollaborate', 882555: 'ouwiki', 882916: 'resource', 882923: 'resource', 883190: 'url', 882592: 'oucontent', 882980: 'resource', 883222: 'url', 882630: 'oucontent', 883042: 'subpage', 883255: 'url', 882665: 'oucontent', 883073: 'subpage', 883286: 'url', 882705: 'page', 883155: 'oucollaborate', 882552: 'glossary', 882913: 'resource', 882920: 'resource', 883187: 'url', 882589: 'oucontent', 882975: 'resource', 883219: 'url', 882626: 'oucontent', 883038: 'subpage', 883252: 'url', 882662: 'oucontent', 883283: 'url', 882701: 'page', 883152: 'oucollaborate', 882549: 'forumng', 882907: 'resource', 883184: 'url', 882586: 'oucontent', 882970: 'resource', 883216: 'url', 882623: 'oucontent', 883029: 'resource', 883249: 'url', 882659: 'oucontent', 883070: 'subpage', 883280: 'url', 882688: 'page', 883149: 'oucollaborate', 882537: 'homepage', 882903: 'resource', 883181: 'url', 882582: 'oucontent', 882959: 'resource', 883213: 'url', 882620: 'oucontent', 883025: 'resource', 883246: 'url', 882656: 'oucontent', 883067: 'subpage', 882685: 'page', 883145: 'htmlactivity', 1072240: 'oucollaborate', 882899: 'resource', 883178: 'url', 882579: 'oucontent', 882953: 'resource', 883210: 'url', 882617: 'oucontent', 883018: 'resource', 883243: 'url', 882653: 'oucontent', 883064: 'subpage', 883277: 'url', 882682: 'quiz', 883142: 'htmlactivity', 1004809: 'questionnaire', 882892: 'resource', 883175: 'url', 882575: 'oucontent', 882949: 'resource', 883207: 'url', 882610: 'oucontent', 883002: 'resource', 883240: 'url', 882650: 'oucontent', 883061: 'subpage', 883274: 'url', 882679: 'quiz', 883092: 'subpage', 937372: 'url', 882722: 'questionnaire', 883172: 'url', 882571: 'oucontent', 882946: 'resource', 883204: 'url', 882607: 'oucontent', 882996: 'resource', 883237: 'url', 882647: 'oucontent', 883058: 'subpage', 883271: 'url', 882676: 'quiz', 883089: 'subpage', 883304: 'dataplus', 882719: 'questionnaire', 883169: 'url', 882567: 'oucontent', 882942: 'resource', 883201: 'url', 882603: 'oucontent', 882992: 'resource', 883234: 'url', 882644: 'oucontent', 883055: 'subpage', 883268: 'url', 883085: 'subpage', 883301: 'dataplus', 882716: 'questionnaire', 883166: 'url', 882564: 'oucontent', 882937: 'resource', 883198: 'url', 882600: 'oucontent', 882988: 'resource', 883231: 'url', 882639: 'oucontent', 883051: 'subpage', 883264: 'url', 882673: 'quiz', 661577: 'oucontent', 661690: 'resource', 661722: 'resource', 661764: 'resource', 661808: 'subpage', 661573: 'forumng', 661613: 'quiz', 661719: 'resource', 661761: 'resource', 661804: 'resource', 661610: 'quiz', 661716: 'resource', 661757: 'resource', 661801: 'resource', 661607: 'quiz', 661713: 'resource', 661753: 'resource', 661796: 'resource', 661602: 'oucontent', 661710: 'resource', 661748: 'resource', 661792: 'resource', 661599: 'oucontent', 661707: 'resource', 661743: 'resource', 661787: 'resource', 661595: 'oucontent', 661704: 'resource', 661738: 'resource', 661783: 'resource', 661592: 'oucontent', 661701: 'resource', 661734: 'resource', 661777: 'resource', 661589: 'oucontent', 661698: 'resource', 661731: 'resource', 661772: 'resource', 661586: 'oucontent', 661695: 'resource', 661727: 'resource', 661769: 'resource', 661579: 'oucontent', 661692: 'resource', 661724: 'resource', 661766: 'resource', 661810: 'subpage', 661576: 'oucontent', 661615: 'quiz', 661721: 'resource', 661763: 'resource', 661807: 'subpage', 661572: 'forumng', 661612: 'quiz', 661718: 'resource', 661759: 'resource', 661803: 'resource', 661609: 'quiz', 661715: 'resource', 661756: 'resource', 661799: 'resource', 661606: 'oucontent', 661712: 'resource', 661750: 'resource', 661795: 'resource', 661601: 'oucontent', 661709: 'resource', 661747: 'resource', 661790: 'resource', 661598: 'oucontent', 661706: 'resource', 661742: 'resource', 661786: 'resource', 661594: 'oucontent', 661703: 'resource', 661736: 'resource', 661780: 'resource', 661591: 'oucontent', 661700: 'resource', 661733: 'resource', 661775: 'resource', 661588: 'oucontent', 661697: 'resource', 661729: 'resource', 661771: 'resource', 661585: 'oucontent', 661694: 'resource', 661726: 'resource', 661768: 'resource', 661578: 'oucontent', 661691: 'resource', 661723: 'resource', 661765: 'resource', 661809: 'subpage', 661575: 'homepage', 661614: 'quiz', 661720: 'resource', 661762: 'resource', 661805: 'resource', 661570: 'glossary', 661611: 'quiz', 661717: 'resource', 661758: 'resource', 661802: 'resource', 661608: 'quiz', 661714: 'resource', 661755: 'resource', 661798: 'resource', 661603: 'oucontent', 661711: 'resource', 661749: 'resource', 661793: 'resource', 661600: 'oucontent', 661708: 'resource', 661744: 'resource', 661789: 'resource', 661597: 'oucontent', 661705: 'resource', 661740: 'resource', 661785: 'resource', 661593: 'oucontent', 661702: 'resource', 661735: 'resource', 661779: 'resource', 661590: 'oucontent', 661699: 'resource', 661732: 'resource', 661774: 'resource', 661587: 'oucontent', 661696: 'resource', 661728: 'resource', 661770: 'resource', 661584: 'oucontent', 661693: 'resource', 661725: 'resource', 661767: 'resource', 661811: 'subpage', 798685: 'oucontent', 798756: 'resource', 798793: 'resource', 798681: 'oucontent', 798747: 'resource', 798753: 'resource', 798789: 'resource', 798677: 'oucontent', 798743: 'resource', 798750: 'resource', 798786: 'resource', 798674: 'oucontent', 798740: 'resource', 798782: 'resource', 798833: 'subpage', 798671: 'oucontent', 798737: 'resource', 798779: 'resource', 798830: 'resource', 798668: 'oucontent', 798734: 'resource', 798776: 'resource', 798820: 'resource', 798731: 'resource', 798772: 'resource', 798816: 'resource', 798636: 'quiz', 798727: 'resource', 798768: 'resource', 798808: 'resource', 798628: 'quiz', 798693: 'oucontent', 798765: 'resource', 798804: 'resource', 798625: 'quiz', 798690: 'oucontent', 798762: 'resource', 798799: 'resource', 798618: 'forumng', 798687: 'oucontent', 798758: 'resource', 798795: 'resource', 798683: 'oucontent', 798749: 'resource', 798755: 'resource', 798792: 'resource', 798680: 'oucontent', 798746: 'resource', 798752: 'resource', 798788: 'resource', 798676: 'oucontent', 798742: 'resource', 798784: 'resource', 798835: 'subpage', 798673: 'oucontent', 798739: 'resource', 798781: 'resource', 798832: 'subpage', 798670: 'oucontent', 798736: 'resource', 798778: 'resource', 798827: 'resource', 798733: 'resource', 798775: 'resource', 798818: 'resource', 798638: 'quiz', 798730: 'resource', 798770: 'resource', 798815: 'resource', 798635: 'quiz', 798726: 'resource', 798767: 'resource', 798806: 'resource', 798627: 'quiz', 798692: 'oucontent', 798764: 'resource', 798803: 'resource', 798622: 'homepage', 798689: 'oucontent', 798761: 'resource', 798798: 'resource', 798617: 'glossary', 798686: 'oucontent', 798757: 'resource', 798794: 'resource', 798682: 'oucontent', 798748: 'resource', 798754: 'resource', 798791: 'resource', 798678: 'oucontent', 798745: 'resource', 798751: 'resource', 798787: 'resource', 798675: 'oucontent', 798741: 'resource', 798783: 'resource', 798834: 'subpage', 798672: 'oucontent', 798738: 'resource', 798780: 'resource', 798831: 'subpage', 798669: 'oucontent', 798735: 'resource', 798777: 'resource', 798823: 'resource', 798732: 'resource', 798773: 'resource', 798817: 'resource', 798637: 'quiz', 798728: 'resource', 798769: 'resource', 798811: 'resource', 798633: 'quiz', 798694: 'oucontent', 798766: 'resource', 798805: 'resource', 798626: 'quiz', 798691: 'oucontent', 798763: 'resource', 798802: 'resource', 798620: 'forumng', 798688: 'oucontent', 798760: 'resource', 798797: 'resource', 896962: 'oucontent', 897057: 'resource', 897089: 'resource', 896959: 'oucontent', 897054: 'resource', 897086: 'resource', 897154: 'subpage', 896956: 'quiz', 897051: 'resource', 897083: 'resource', 897151: 'subpage', 896938: 'forumng', 896950: 'quiz', 897048: 'resource', 897080: 'resource', 896943: 'homepage', 896984: 'oucontent', 897077: 'resource', 897148: 'resource', 896981: 'oucontent', 897074: 'resource', 897145: 'resource', 896976: 'oucontent', 897071: 'resource', 897141: 'resource', 896973: 'oucontent', 897068: 'resource', 897121: 'resource', 896970: 'oucontent', 897065: 'resource', 897112: 'resource', 896967: 'oucontent', 897062: 'resource', 897105: 'resource', 896964: 'oucontent', 897059: 'resource', 897095: 'resource', 896961: 'oucontent', 897056: 'resource', 897088: 'resource', 896958: 'quiz', 897053: 'resource', 897085: 'resource', 897153: 'subpage', 896941: 'glossary', 896952: 'quiz', 897050: 'resource', 897082: 'resource', 896948: 'quiz', 896987: 'oucontent', 897079: 'resource', 897150: 'subpage', 896983: 'oucontent', 897076: 'resource', 897147: 'resource', 896980: 'oucontent', 897073: 'resource', 897144: 'resource', 896975: 'oucontent', 897070: 'resource', 897137: 'resource', 896972: 'oucontent', 897067: 'resource', 897120: 'resource', 896969: 'oucontent', 897064: 'resource', 897110: 'resource', 896966: 'oucontent', 897061: 'resource', 897101: 'resource', 896963: 'oucontent', 897058: 'resource', 897094: 'resource', 896960: 'oucontent', 897055: 'resource', 897087: 'resource', 896957: 'quiz', 897052: 'resource', 897084: 'resource', 897152: 'subpage', 896939: 'forumng', 896951: 'quiz', 897049: 'resource', 897081: 'resource', 896945: 'quiz', 896985: 'oucontent', 897078: 'resource', 897149: 'resource', 896982: 'oucontent', 897075: 'resource', 897146: 'resource', 896978: 'oucontent', 897072: 'resource', 897143: 'resource', 896974: 'oucontent', 897069: 'resource', 897131: 'resource', 896971: 'oucontent', 897066: 'resource', 897115: 'resource', 896968: 'oucontent', 897063: 'resource', 897109: 'resource', 896965: 'oucontent', 897060: 'resource', 897100: 'resource'}\n",
            "\n",
            "\n",
            "{'resource': 0, 'oucontent': 1, 'url': 2, 'homepage': 3, 'subpage': 4, 'glossary': 5, 'forumng': 6, 'oucollaborate': 7, 'dataplus': 8, 'quiz': 9, 'ouelluminate': 10, 'sharedsubpage': 11, 'questionnaire': 12, 'page': 13, 'externalquiz': 14, 'ouwiki': 15, 'dualpane': 16, 'repeatactivity': 17, 'folder': 18, 'htmlactivity': 19}\n"
          ]
        }
      ]
    },
    {
      "cell_type": "code",
      "source": [
        "from sklearn.preprocessing import LabelEncoder\n",
        "labelencoder = LabelEncoder()\n",
        "\n",
        "labelencoder.fit([\"Distinction\", \"Fail\", \"Pass\"])"
      ],
      "metadata": {
        "colab": {
          "base_uri": "https://localhost:8080/"
        },
        "id": "Zorfltqccd2o",
        "outputId": "bb1f20bd-f7c4-4f9d-9f8b-da7416cfe170"
      },
      "execution_count": 10,
      "outputs": [
        {
          "output_type": "execute_result",
          "data": {
            "text/plain": [
              "LabelEncoder()"
            ]
          },
          "metadata": {},
          "execution_count": 10
        }
      ]
    },
    {
      "cell_type": "markdown",
      "source": [
        "Transform the data into training data"
      ],
      "metadata": {
        "id": "-2wkt9LxfVOi"
      }
    },
    {
      "cell_type": "code",
      "source": [
        "# extract features for the course  BBB, 2013 as the training and 2014 as the test\n",
        "\n",
        "from sklearn.preprocessing import LabelEncoder\n",
        "labelencoder = LabelEncoder()\n",
        "\n",
        "labelencoder.fit([\"Distinction\", \"Fail\", \"Pass\"])\n",
        "\n",
        "courses = ['DDD'] # we can also add AAA, BBB, CCC\n",
        "\n",
        "for i, course in enumerate(courses):\n",
        "    \n",
        "    stVLE_subset = stVLE_update[stVLE_update['code_module'] == course]\n",
        "    stInfo_update_filtered = stInfo_update[stInfo_update['code_module'] == course]\n",
        "    \n",
        "    # filter multiple attemps\n",
        "    stInfo_update_filtered.drop_duplicates(subset=['id_student'], keep=False, inplace=True)\n",
        "    \n",
        "    stVLE_subset_filtered = stVLE_subset[stVLE_subset['id_student'].isin(stInfo_update_filtered['id_student'])]\n",
        "    \n",
        "    stInfo_update_filtered = stInfo_update_filtered[stInfo_update_filtered['id_student'].isin(stVLE_subset_filtered['id_student'])]\n",
        "    \n",
        "    \n",
        "    stVLE_subset_train = stVLE_subset_filtered[(stVLE_subset_filtered['code_presentation'] == '2013B') | \n",
        "                                              (stVLE_subset_filtered['code_presentation'] == '2013J')]\n",
        "\n",
        "    stVLE_subset_test = stVLE_subset_filtered[(stVLE_subset_filtered['code_presentation'] == '2014B') | \n",
        "                                              (stVLE_subset_filtered['code_presentation'] == '2014J')]\n",
        "  \n",
        "    stinfo_train = stInfo_update_filtered[stInfo_update_filtered['id_student'].isin(stVLE_subset_train['id_student'])]\n",
        "\n",
        "    stinfo_test = stInfo_update_filtered[stInfo_update_filtered['id_student'].isin(stVLE_subset_test['id_student'])]\n",
        "\n",
        "    \n",
        "    studentno_train = len(stVLE_subset_train['id_student'].unique())\n",
        "    \n",
        "     \n",
        "    stinfo_train['arrayIdx'] = np.arange(studentno_train)\n",
        "    \n",
        "     \n",
        "    print('the number of students {} in train course {}'.format(studentno_train, course))\n",
        "    \n",
        "    cc = stVLE_subset_train.replace({'id_site': dic_site_acitivity}, inplace=False) \n",
        "    stVLE_subset_train['activity_type'] = cc['id_site']\n",
        "    \n",
        "    cc = stVLE_subset_train.replace({'activity_type': dic_acitivity_idx}, inplace=False) \n",
        "    stVLE_subset_train['activity_idx'] = cc['activity_type']\n",
        "   \n",
        "    \n",
        "    stVLE_subset_train = pd.merge(stVLE_subset_train, stinfo_train[{'arrayIdx', 'id_student'}], on='id_student', validate='m:1')\n",
        "    \n",
        "    total_days = np.max(stVLE_subset_train['date'].values) + 1\n",
        "    \n",
        "    actionArray_train = np.zeros([studentno_train, total_days, actions_len])\n",
        "    \n",
        "    y_train = np.zeros(studentno_train)\n",
        "         \n",
        "    y_train = labelencoder.transform(stinfo_train['final_result'])\n",
        "   \n",
        "\n",
        "    for day in range(total_days):\n",
        "        \n",
        "        #print('running the course {} and the day : {}'.format(course, day))\n",
        "        \n",
        "        stVLE_days = stVLE_subset_train[stVLE_subset_train['date'] == day]\n",
        "    \n",
        "        yy = stVLE_days.groupby(['arrayIdx', 'activity_idx'])['sum_click'].sum().unstack(fill_value=0)\n",
        "\n",
        "        newyy = yy.reindex(np.arange(actions_len), axis=1, fill_value=0)\n",
        "\n",
        "        newzz = newyy.reindex(np.arange(studentno_train), axis=0, fill_value=0)\n",
        "\n",
        "        newzz = newzz.values\n",
        "\n",
        "        actionArray_train[:,day,:] = newzz\n",
        "        \n",
        "    ####\n",
        "    \n",
        "    studentno_test = len(stVLE_subset_test['id_student'].unique())\n",
        "    \n",
        "     \n",
        "    stinfo_test['arrayIdx'] = np.arange(studentno_test)\n",
        "    \n",
        "     \n",
        "    print('the number of students {} in test course {}'.format(studentno_test, course))\n",
        "    \n",
        "    cc = stVLE_subset_test.replace({'id_site': dic_site_acitivity}, inplace=False) \n",
        "    stVLE_subset_test['activity_type'] = cc['id_site']\n",
        "    \n",
        "    cc = stVLE_subset_test.replace({'activity_type': dic_acitivity_idx}, inplace=False) \n",
        "    stVLE_subset_test['activity_idx'] = cc['activity_type']\n",
        "   \n",
        "    \n",
        "    stVLE_subset_test = pd.merge(stVLE_subset_test, stinfo_test[{'arrayIdx', 'id_student'}], on='id_student', validate='m:1')\n",
        "    \n",
        "    total_days = np.max(stVLE_subset_test['date'].values) + 1\n",
        "    \n",
        "    actionArray_test= np.zeros([studentno_test, total_days, actions_len])\n",
        "    \n",
        "    y_test = np.zeros(studentno_test)\n",
        "         \n",
        "    y_test = labelencoder.transform(stinfo_test['final_result'])\n",
        "   \n",
        "    \n",
        "    for day in range(total_days):\n",
        "        \n",
        "        #print('running the course {} and the day : {}'.format(course, day))\n",
        "        \n",
        "        stVLE_days = stVLE_subset_test[stVLE_subset_test['date'] == day]\n",
        "    \n",
        "        yy = stVLE_days.groupby(['arrayIdx', 'activity_idx'])['sum_click'].sum().unstack(fill_value=0)\n",
        "\n",
        "        newyy = yy.reindex(np.arange(actions_len), axis=1, fill_value=0)\n",
        "\n",
        "        newzz = newyy.reindex(np.arange(studentno_test), axis=0, fill_value=0)\n",
        "\n",
        "        newzz = newzz.values\n",
        "\n",
        "        actionArray_test[:,day,:] = newzz"
      ],
      "metadata": {
        "colab": {
          "base_uri": "https://localhost:8080/"
        },
        "id": "ayfzbxWPfbaz",
        "outputId": "c691c2d8-6ebd-42a5-f220-c5e3fd504de1"
      },
      "execution_count": 15,
      "outputs": [
        {
          "output_type": "stream",
          "name": "stderr",
          "text": [
            "/usr/local/lib/python3.7/dist-packages/pandas/util/_decorators.py:311: SettingWithCopyWarning: \n",
            "A value is trying to be set on a copy of a slice from a DataFrame\n",
            "\n",
            "See the caveats in the documentation: https://pandas.pydata.org/pandas-docs/stable/user_guide/indexing.html#returning-a-view-versus-a-copy\n",
            "  return func(*args, **kwargs)\n",
            "/usr/local/lib/python3.7/dist-packages/ipykernel_launcher.py:37: SettingWithCopyWarning: \n",
            "A value is trying to be set on a copy of a slice from a DataFrame.\n",
            "Try using .loc[row_indexer,col_indexer] = value instead\n",
            "\n",
            "See the caveats in the documentation: https://pandas.pydata.org/pandas-docs/stable/user_guide/indexing.html#returning-a-view-versus-a-copy\n"
          ]
        },
        {
          "output_type": "stream",
          "name": "stdout",
          "text": [
            "the number of students 2172 in train course DDD\n"
          ]
        },
        {
          "output_type": "stream",
          "name": "stderr",
          "text": [
            "/usr/local/lib/python3.7/dist-packages/ipykernel_launcher.py:43: SettingWithCopyWarning: \n",
            "A value is trying to be set on a copy of a slice from a DataFrame.\n",
            "Try using .loc[row_indexer,col_indexer] = value instead\n",
            "\n",
            "See the caveats in the documentation: https://pandas.pydata.org/pandas-docs/stable/user_guide/indexing.html#returning-a-view-versus-a-copy\n",
            "/usr/local/lib/python3.7/dist-packages/ipykernel_launcher.py:46: SettingWithCopyWarning: \n",
            "A value is trying to be set on a copy of a slice from a DataFrame.\n",
            "Try using .loc[row_indexer,col_indexer] = value instead\n",
            "\n",
            "See the caveats in the documentation: https://pandas.pydata.org/pandas-docs/stable/user_guide/indexing.html#returning-a-view-versus-a-copy\n",
            "/usr/local/lib/python3.7/dist-packages/ipykernel_launcher.py:81: SettingWithCopyWarning: \n",
            "A value is trying to be set on a copy of a slice from a DataFrame.\n",
            "Try using .loc[row_indexer,col_indexer] = value instead\n",
            "\n",
            "See the caveats in the documentation: https://pandas.pydata.org/pandas-docs/stable/user_guide/indexing.html#returning-a-view-versus-a-copy\n"
          ]
        },
        {
          "output_type": "stream",
          "name": "stdout",
          "text": [
            "the number of students 1850 in test course DDD\n"
          ]
        },
        {
          "output_type": "stream",
          "name": "stderr",
          "text": [
            "/usr/local/lib/python3.7/dist-packages/ipykernel_launcher.py:87: SettingWithCopyWarning: \n",
            "A value is trying to be set on a copy of a slice from a DataFrame.\n",
            "Try using .loc[row_indexer,col_indexer] = value instead\n",
            "\n",
            "See the caveats in the documentation: https://pandas.pydata.org/pandas-docs/stable/user_guide/indexing.html#returning-a-view-versus-a-copy\n",
            "/usr/local/lib/python3.7/dist-packages/ipykernel_launcher.py:90: SettingWithCopyWarning: \n",
            "A value is trying to be set on a copy of a slice from a DataFrame.\n",
            "Try using .loc[row_indexer,col_indexer] = value instead\n",
            "\n",
            "See the caveats in the documentation: https://pandas.pydata.org/pandas-docs/stable/user_guide/indexing.html#returning-a-view-versus-a-copy\n"
          ]
        }
      ]
    },
    {
      "cell_type": "code",
      "source": [
        "# merge distinction and pass \n",
        "y_train[y_train==2] = 0 \n",
        "y_test[y_test==2] = 0"
      ],
      "metadata": {
        "id": "7fybIqCDjtwj"
      },
      "execution_count": 16,
      "outputs": []
    },
    {
      "cell_type": "code",
      "source": [
        "[a, b] = np.unique(y_train, return_counts=True)\n",
        "print(a)\n",
        "print(b)\n",
        "\n",
        "[a, b] = np.unique(y_test, return_counts=True)\n",
        "print(a)\n",
        "print(b)"
      ],
      "metadata": {
        "colab": {
          "base_uri": "https://localhost:8080/"
        },
        "id": "gr7dQmXRmkO_",
        "outputId": "5f92f89d-76c5-42be-e4c1-1cd808e260ac"
      },
      "execution_count": 17,
      "outputs": [
        {
          "output_type": "stream",
          "name": "stdout",
          "text": [
            "[0 1]\n",
            "[1382  790]\n",
            "[0 1]\n",
            "[1264  586]\n"
          ]
        }
      ]
    },
    {
      "cell_type": "code",
      "source": [
        "# construct the data form for LSTM\n",
        "\n",
        "total_weeks = 37\n",
        "\n",
        "usedweeks = 35 # use 35-weeks' data\n",
        "\n",
        "X = list()\n",
        "\n",
        "for i in range(total_weeks):\n",
        "    seq_x = np.sum(actionArray_train[:, (7*i):(7*i+6), :], axis=1)\n",
        "    X.append(seq_x)\n",
        "X = np.array(X)\n",
        "\n",
        "\n",
        "actionWeeks = np.swapaxes(X, 0, 1)\n",
        "\n",
        "def prepare_data(actionWeeks, weeks=1):\n",
        "    return actionWeeks[:,:weeks,:]\n",
        "\n",
        "X_train = prepare_data(actionWeeks, weeks=usedweeks)\n"
      ],
      "metadata": {
        "id": "lQo4c-Cvmn_W"
      },
      "execution_count": 20,
      "outputs": []
    },
    {
      "cell_type": "code",
      "source": [
        "X = list()\n",
        "\n",
        "for i in range(total_weeks):\n",
        "    seq_x = np.sum(actionArray_test[:, (7*i):(7*i+6), :], axis=1)\n",
        "    X.append(seq_x)\n",
        "X = np.array(X)\n",
        "\n",
        "actionWeeks = np.swapaxes(X, 0, 1)\n",
        "\n",
        "def prepare_data(actionWeeks, weeks=1):\n",
        "    return actionWeeks[:,:weeks,:]\n",
        "\n",
        "X_test = prepare_data(actionWeeks, weeks=usedweeks)\n",
        "\n",
        "from sklearn.preprocessing import StandardScaler, MinMaxScaler\n",
        "scaler = MinMaxScaler(feature_range=(0,1))\n",
        "\n",
        "XX = np.reshape(X_train, (X_train.shape[0]*X_train.shape[1], X_train.shape[2]))\n",
        "scaler.fit(np.log(XX + 1))\n",
        "XX = scaler.transform(np.log(XX+1))\n",
        "\n",
        "X_train = np.reshape(XX, (X_train.shape[0], X_train.shape[1], X_train.shape[2]))\n",
        "\n",
        "XX_test = np.reshape(X_test, (X_test.shape[0]*X_test.shape[1], X_test.shape[2]))\n",
        "XX_test = scaler.transform(np.log(XX_test+1))\n",
        "X_test = np.reshape(XX_test, (X_test.shape[0], X_test.shape[1], X_test.shape[2]))"
      ],
      "metadata": {
        "id": "4Rq2-cc9msn-"
      },
      "execution_count": 21,
      "outputs": []
    },
    {
      "cell_type": "code",
      "source": [
        "import tensorflow as tf\n",
        "from tensorflow import keras\n",
        "from keras.models import Sequential\n",
        "from keras.layers import Dense, Embedding, LSTM, BatchNormalization, Bidirectional, LayerNormalization\n",
        "from sklearn.model_selection import train_test_split\n",
        "from keras.utils.np_utils import to_categorical\n",
        "from keras import regularizers\n",
        "import re\n",
        "from keras.layers import Dropout"
      ],
      "metadata": {
        "id": "ggovuPl6mtnZ"
      },
      "execution_count": 22,
      "outputs": []
    },
    {
      "cell_type": "code",
      "source": [
        "early_stopping = tf.keras.callbacks.EarlyStopping(\n",
        "    monitor='val_loss', \n",
        "    verbose=1,\n",
        "    patience=10,\n",
        "    mode='min',\n",
        "    restore_best_weights=True)"
      ],
      "metadata": {
        "id": "fM6UG89Cmvze"
      },
      "execution_count": 23,
      "outputs": []
    },
    {
      "cell_type": "code",
      "source": [
        "METRICS =[\n",
        "    keras.metrics.AUC(name ='accuracy'),\n",
        "    keras.metrics.Recall(name ='recall'),\n",
        "    keras.metrics.Precision(name = 'precision'),\n",
        "]"
      ],
      "metadata": {
        "id": "V_59RR7GmxR-"
      },
      "execution_count": 24,
      "outputs": []
    },
    {
      "cell_type": "code",
      "source": [
        "n_steps = X_train.shape[1]\n",
        "n_features = X_train.shape[2]"
      ],
      "metadata": {
        "id": "Wp8BqECSmysZ"
      },
      "execution_count": 25,
      "outputs": []
    },
    {
      "cell_type": "code",
      "source": [
        "tf.keras.backend.clear_session()\n",
        "tf.compat.v1.reset_default_graph()\n",
        "\n",
        "from tensorflow.keras import initializers\n",
        "\n",
        "model = Sequential()\n",
        "model.add(tf.keras.layers.Masking(mask_value=0.,\n",
        "                                   input_shape=(n_steps, n_features))) \n",
        "model.add(LSTM(300, return_sequences=False, \n",
        "               dropout=0.1, recurrent_dropout=0.1))\n",
        "model.add(Dense(1,activation='sigmoid'))\n",
        "# try using category instead of binary\n",
        "model.compile(loss = 'binary_crossentropy', optimizer=keras.optimizers.Adam(learning_rate=0.01),metrics = METRICS)\n",
        "print(model.summary())"
      ],
      "metadata": {
        "colab": {
          "base_uri": "https://localhost:8080/"
        },
        "id": "40CBQL3Lm1yY",
        "outputId": "0cf201e5-912b-4473-a67e-1c48b648cea5"
      },
      "execution_count": 27,
      "outputs": [
        {
          "output_type": "stream",
          "name": "stdout",
          "text": [
            "Model: \"sequential\"\n",
            "_________________________________________________________________\n",
            " Layer (type)                Output Shape              Param #   \n",
            "=================================================================\n",
            " masking (Masking)           (None, 35, 20)            0         \n",
            "                                                                 \n",
            " lstm (LSTM)                 (None, 300)               385200    \n",
            "                                                                 \n",
            " dense (Dense)               (None, 1)                 301       \n",
            "                                                                 \n",
            "=================================================================\n",
            "Total params: 385,501\n",
            "Trainable params: 385,501\n",
            "Non-trainable params: 0\n",
            "_________________________________________________________________\n",
            "None\n"
          ]
        }
      ]
    },
    {
      "cell_type": "code",
      "source": [
        "batch_size = 100\n",
        "my_callbacks = [early_stopping]\n",
        "\n",
        "neg = len(y_train[y_train ==0])\n",
        "pos = len(y_train[y_train ==1])\n",
        "total = neg + pos\n",
        "weight_for_0 = (1 / neg)*(total)/2.0 \n",
        "weight_for_1 = (1 / pos)*(total)/2.0\n",
        "\n",
        "class_weight = {0: weight_for_0, 1: weight_for_1}\n",
        "\n",
        "history = model.fit(X_train, y_train, epochs = 100, batch_size=batch_size, \n",
        "                    validation_data=(X_test, y_test), \n",
        "                    callbacks = my_callbacks, class_weight=class_weight,\n",
        "                    verbose = 2, shuffle=True)"
      ],
      "metadata": {
        "colab": {
          "base_uri": "https://localhost:8080/"
        },
        "id": "TtShq1iEm39Q",
        "outputId": "0ff16254-1a96-4833-b775-047f65a69e54"
      },
      "execution_count": 28,
      "outputs": [
        {
          "output_type": "stream",
          "name": "stdout",
          "text": [
            "Epoch 1/100\n",
            "22/22 - 25s - loss: 0.9107 - accuracy: 0.6835 - recall: 0.6076 - precision: 0.5614 - val_loss: 0.4959 - val_accuracy: 0.8477 - val_recall: 0.6143 - val_precision: 0.8257 - 25s/epoch - 1s/step\n",
            "Epoch 2/100\n",
            "22/22 - 21s - loss: 0.6081 - accuracy: 0.7337 - recall: 0.5430 - precision: 0.7174 - val_loss: 0.6164 - val_accuracy: 0.8789 - val_recall: 0.7662 - val_precision: 0.6692 - 21s/epoch - 957ms/step\n",
            "Epoch 3/100\n",
            "22/22 - 19s - loss: 0.6124 - accuracy: 0.7145 - recall: 0.6430 - precision: 0.5486 - val_loss: 0.5471 - val_accuracy: 0.8801 - val_recall: 0.7372 - val_precision: 0.7013 - 19s/epoch - 877ms/step\n",
            "Epoch 4/100\n",
            "22/22 - 19s - loss: 0.5631 - accuracy: 0.7667 - recall: 0.6570 - precision: 0.6223 - val_loss: 0.6788 - val_accuracy: 0.8560 - val_recall: 1.0000 - val_precision: 0.3168 - 19s/epoch - 862ms/step\n",
            "Epoch 5/100\n",
            "22/22 - 19s - loss: 0.5392 - accuracy: 0.8041 - recall: 0.5747 - precision: 0.7116 - val_loss: 0.5475 - val_accuracy: 0.8780 - val_recall: 0.5290 - val_precision: 0.8857 - 19s/epoch - 864ms/step\n",
            "Epoch 6/100\n",
            "22/22 - 18s - loss: 0.4925 - accuracy: 0.8260 - recall: 0.6203 - precision: 0.8249 - val_loss: 0.4796 - val_accuracy: 0.8786 - val_recall: 0.6655 - val_precision: 0.7753 - 18s/epoch - 840ms/step\n",
            "Epoch 7/100\n",
            "22/22 - 19s - loss: 0.4629 - accuracy: 0.8564 - recall: 0.6937 - precision: 0.7840 - val_loss: 0.4897 - val_accuracy: 0.8785 - val_recall: 0.7526 - val_precision: 0.6923 - 19s/epoch - 869ms/step\n",
            "Epoch 8/100\n",
            "22/22 - 20s - loss: 0.5089 - accuracy: 0.8207 - recall: 0.6722 - precision: 0.7215 - val_loss: 0.5581 - val_accuracy: 0.8839 - val_recall: 0.8618 - val_precision: 0.5700 - 20s/epoch - 886ms/step\n",
            "Epoch 9/100\n",
            "22/22 - 21s - loss: 0.4578 - accuracy: 0.8659 - recall: 0.6823 - precision: 0.7997 - val_loss: 0.4105 - val_accuracy: 0.8823 - val_recall: 0.7372 - val_precision: 0.7105 - 21s/epoch - 968ms/step\n",
            "Epoch 10/100\n",
            "22/22 - 21s - loss: 0.4573 - accuracy: 0.8633 - recall: 0.7772 - precision: 0.6830 - val_loss: 0.3844 - val_accuracy: 0.8871 - val_recall: 0.5802 - val_precision: 0.8458 - 21s/epoch - 971ms/step\n",
            "Epoch 11/100\n",
            "22/22 - 18s - loss: 0.4705 - accuracy: 0.8466 - recall: 0.7076 - precision: 0.7668 - val_loss: 0.4506 - val_accuracy: 0.8830 - val_recall: 0.7679 - val_precision: 0.6726 - 18s/epoch - 807ms/step\n",
            "Epoch 12/100\n",
            "22/22 - 18s - loss: 0.4485 - accuracy: 0.8663 - recall: 0.7190 - precision: 0.7543 - val_loss: 0.4318 - val_accuracy: 0.8867 - val_recall: 0.7406 - val_precision: 0.7282 - 18s/epoch - 808ms/step\n",
            "Epoch 13/100\n",
            "22/22 - 17s - loss: 0.4278 - accuracy: 0.8823 - recall: 0.7582 - precision: 0.7377 - val_loss: 0.3859 - val_accuracy: 0.8883 - val_recall: 0.7235 - val_precision: 0.7640 - 17s/epoch - 782ms/step\n",
            "Epoch 14/100\n",
            "22/22 - 17s - loss: 0.4374 - accuracy: 0.8766 - recall: 0.7633 - precision: 0.7265 - val_loss: 0.4343 - val_accuracy: 0.8869 - val_recall: 0.7782 - val_precision: 0.6726 - 17s/epoch - 780ms/step\n",
            "Epoch 15/100\n",
            "22/22 - 17s - loss: 0.4330 - accuracy: 0.8782 - recall: 0.7443 - precision: 0.7538 - val_loss: 0.4537 - val_accuracy: 0.8878 - val_recall: 0.8345 - val_precision: 0.6030 - 17s/epoch - 783ms/step\n",
            "Epoch 16/100\n",
            "22/22 - 19s - loss: 0.4310 - accuracy: 0.8792 - recall: 0.7759 - precision: 0.7359 - val_loss: 0.3712 - val_accuracy: 0.8905 - val_recall: 0.6843 - val_precision: 0.8167 - 19s/epoch - 846ms/step\n",
            "Epoch 17/100\n",
            "22/22 - 17s - loss: 0.4311 - accuracy: 0.8795 - recall: 0.7430 - precision: 0.7440 - val_loss: 0.4341 - val_accuracy: 0.8886 - val_recall: 0.8276 - val_precision: 0.6210 - 17s/epoch - 771ms/step\n",
            "Epoch 18/100\n",
            "22/22 - 17s - loss: 0.4237 - accuracy: 0.8841 - recall: 0.7785 - precision: 0.7210 - val_loss: 0.4068 - val_accuracy: 0.8938 - val_recall: 0.7594 - val_precision: 0.7271 - 17s/epoch - 754ms/step\n",
            "Epoch 19/100\n",
            "22/22 - 17s - loss: 0.4087 - accuracy: 0.8942 - recall: 0.7671 - precision: 0.7417 - val_loss: 0.4500 - val_accuracy: 0.8950 - val_recall: 0.8652 - val_precision: 0.5958 - 17s/epoch - 774ms/step\n",
            "Epoch 20/100\n",
            "22/22 - 17s - loss: 0.4141 - accuracy: 0.8903 - recall: 0.7810 - precision: 0.7674 - val_loss: 0.3926 - val_accuracy: 0.8952 - val_recall: 0.7696 - val_precision: 0.7406 - 17s/epoch - 790ms/step\n",
            "Epoch 21/100\n",
            "22/22 - 18s - loss: 0.4014 - accuracy: 0.8979 - recall: 0.7797 - precision: 0.7577 - val_loss: 0.4041 - val_accuracy: 0.8946 - val_recall: 0.8174 - val_precision: 0.6589 - 18s/epoch - 810ms/step\n",
            "Epoch 22/100\n",
            "22/22 - 18s - loss: 0.4073 - accuracy: 0.8941 - recall: 0.8063 - precision: 0.7297 - val_loss: 0.3713 - val_accuracy: 0.8973 - val_recall: 0.7218 - val_precision: 0.7833 - 18s/epoch - 841ms/step\n",
            "Epoch 23/100\n",
            "22/22 - 20s - loss: 0.4136 - accuracy: 0.8902 - recall: 0.7658 - precision: 0.7639 - val_loss: 0.3689 - val_accuracy: 0.8968 - val_recall: 0.7389 - val_precision: 0.7691 - 20s/epoch - 923ms/step\n",
            "Epoch 24/100\n",
            "22/22 - 18s - loss: 0.4268 - accuracy: 0.8824 - recall: 0.7734 - precision: 0.7282 - val_loss: 0.4018 - val_accuracy: 0.8949 - val_recall: 0.7662 - val_precision: 0.7458 - 18s/epoch - 826ms/step\n",
            "Epoch 25/100\n",
            "22/22 - 15s - loss: 0.4022 - accuracy: 0.8963 - recall: 0.7848 - precision: 0.7702 - val_loss: 0.3565 - val_accuracy: 0.8999 - val_recall: 0.7218 - val_precision: 0.7921 - 15s/epoch - 701ms/step\n",
            "Epoch 26/100\n",
            "22/22 - 16s - loss: 0.3942 - accuracy: 0.9013 - recall: 0.7886 - precision: 0.7768 - val_loss: 0.3988 - val_accuracy: 0.8964 - val_recall: 0.7969 - val_precision: 0.7076 - 16s/epoch - 732ms/step\n",
            "Epoch 27/100\n",
            "22/22 - 18s - loss: 0.3999 - accuracy: 0.8977 - recall: 0.7848 - precision: 0.7673 - val_loss: 0.4683 - val_accuracy: 0.8974 - val_recall: 0.8754 - val_precision: 0.5816 - 18s/epoch - 803ms/step\n",
            "Epoch 28/100\n",
            "22/22 - 18s - loss: 0.3997 - accuracy: 0.8988 - recall: 0.7937 - precision: 0.7518 - val_loss: 0.4197 - val_accuracy: 0.8999 - val_recall: 0.8430 - val_precision: 0.6269 - 18s/epoch - 820ms/step\n",
            "Epoch 29/100\n",
            "22/22 - 18s - loss: 0.3985 - accuracy: 0.8995 - recall: 0.7987 - precision: 0.7459 - val_loss: 0.3682 - val_accuracy: 0.9001 - val_recall: 0.7611 - val_precision: 0.7521 - 18s/epoch - 819ms/step\n",
            "Epoch 30/100\n",
            "22/22 - 21s - loss: 0.3967 - accuracy: 0.8994 - recall: 0.7810 - precision: 0.7931 - val_loss: 0.3776 - val_accuracy: 0.8999 - val_recall: 0.7833 - val_precision: 0.7321 - 21s/epoch - 940ms/step\n",
            "Epoch 31/100\n",
            "22/22 - 18s - loss: 0.3978 - accuracy: 0.8964 - recall: 0.7785 - precision: 0.7814 - val_loss: 0.3887 - val_accuracy: 0.8992 - val_recall: 0.7816 - val_precision: 0.7281 - 18s/epoch - 819ms/step\n",
            "Epoch 32/100\n",
            "22/22 - 17s - loss: 0.3943 - accuracy: 0.9006 - recall: 0.8000 - precision: 0.7642 - val_loss: 0.3935 - val_accuracy: 0.8996 - val_recall: 0.7918 - val_precision: 0.7020 - 17s/epoch - 789ms/step\n",
            "Epoch 33/100\n",
            "22/22 - 18s - loss: 0.3932 - accuracy: 0.9002 - recall: 0.7873 - precision: 0.7727 - val_loss: 0.3583 - val_accuracy: 0.9022 - val_recall: 0.7491 - val_precision: 0.7756 - 18s/epoch - 830ms/step\n",
            "Epoch 34/100\n",
            "22/22 - 18s - loss: 0.3859 - accuracy: 0.9046 - recall: 0.7937 - precision: 0.7789 - val_loss: 0.3874 - val_accuracy: 0.8971 - val_recall: 0.7816 - val_precision: 0.7281 - 18s/epoch - 815ms/step\n",
            "Epoch 35/100\n",
            "22/22 - 18s - loss: 0.3830 - accuracy: 0.9052 - recall: 0.7962 - precision: 0.7823 - val_loss: 0.3457 - val_accuracy: 0.9018 - val_recall: 0.6928 - val_precision: 0.8235 - 18s/epoch - 809ms/step\n",
            "Epoch 36/100\n",
            "22/22 - 17s - loss: 0.3961 - accuracy: 0.8986 - recall: 0.7785 - precision: 0.7805 - val_loss: 0.3733 - val_accuracy: 0.9012 - val_recall: 0.7645 - val_precision: 0.7645 - 17s/epoch - 793ms/step\n",
            "Epoch 37/100\n",
            "22/22 - 17s - loss: 0.3818 - accuracy: 0.9066 - recall: 0.7911 - precision: 0.8023 - val_loss: 0.3834 - val_accuracy: 0.9013 - val_recall: 0.7969 - val_precision: 0.7163 - 17s/epoch - 776ms/step\n",
            "Epoch 38/100\n",
            "22/22 - 20s - loss: 0.3903 - accuracy: 0.9034 - recall: 0.8127 - precision: 0.7616 - val_loss: 0.3532 - val_accuracy: 0.9030 - val_recall: 0.7321 - val_precision: 0.7828 - 20s/epoch - 897ms/step\n",
            "Epoch 39/100\n",
            "22/22 - 18s - loss: 0.3963 - accuracy: 0.8979 - recall: 0.7886 - precision: 0.7977 - val_loss: 0.3532 - val_accuracy: 0.9029 - val_recall: 0.7423 - val_precision: 0.7740 - 18s/epoch - 804ms/step\n",
            "Epoch 40/100\n",
            "22/22 - 17s - loss: 0.3819 - accuracy: 0.9066 - recall: 0.7899 - precision: 0.7839 - val_loss: 0.3589 - val_accuracy: 0.9036 - val_recall: 0.7526 - val_precision: 0.7710 - 17s/epoch - 767ms/step\n",
            "Epoch 41/100\n",
            "22/22 - 18s - loss: 0.3968 - accuracy: 0.8978 - recall: 0.7924 - precision: 0.7579 - val_loss: 0.3442 - val_accuracy: 0.9037 - val_recall: 0.6587 - val_precision: 0.8713 - 18s/epoch - 802ms/step\n",
            "Epoch 42/100\n",
            "22/22 - 18s - loss: 0.4094 - accuracy: 0.8902 - recall: 0.7722 - precision: 0.7801 - val_loss: 0.3516 - val_accuracy: 0.9019 - val_recall: 0.6997 - val_precision: 0.8151 - 18s/epoch - 798ms/step\n",
            "Epoch 43/100\n",
            "22/22 - 17s - loss: 0.3869 - accuracy: 0.9058 - recall: 0.7886 - precision: 0.7788 - val_loss: 0.4509 - val_accuracy: 0.8963 - val_recall: 0.8362 - val_precision: 0.6140 - 17s/epoch - 775ms/step\n",
            "Epoch 44/100\n",
            "22/22 - 19s - loss: 0.3816 - accuracy: 0.9084 - recall: 0.8076 - precision: 0.7687 - val_loss: 0.4282 - val_accuracy: 0.8998 - val_recall: 0.8311 - val_precision: 0.6391 - 19s/epoch - 875ms/step\n",
            "Epoch 45/100\n",
            "22/22 - 19s - loss: 0.3966 - accuracy: 0.8963 - recall: 0.7861 - precision: 0.7564 - val_loss: 0.3583 - val_accuracy: 0.8986 - val_recall: 0.7133 - val_precision: 0.8085 - 19s/epoch - 869ms/step\n",
            "Epoch 46/100\n",
            "22/22 - 17s - loss: 0.3789 - accuracy: 0.9087 - recall: 0.7937 - precision: 0.7867 - val_loss: 0.4144 - val_accuracy: 0.9011 - val_recall: 0.8311 - val_precision: 0.6493 - 17s/epoch - 777ms/step\n",
            "Epoch 47/100\n",
            "22/22 - 18s - loss: 0.3856 - accuracy: 0.9039 - recall: 0.7949 - precision: 0.7792 - val_loss: 0.3773 - val_accuracy: 0.9007 - val_recall: 0.7526 - val_precision: 0.7617 - 18s/epoch - 801ms/step\n",
            "Epoch 48/100\n",
            "22/22 - 19s - loss: 0.3803 - accuracy: 0.9073 - recall: 0.7873 - precision: 0.7814 - val_loss: 0.4651 - val_accuracy: 0.8926 - val_recall: 0.8498 - val_precision: 0.6288 - 19s/epoch - 851ms/step\n",
            "Epoch 49/100\n",
            "22/22 - 18s - loss: 0.3856 - accuracy: 0.9045 - recall: 0.7911 - precision: 0.7716 - val_loss: 0.4478 - val_accuracy: 0.8997 - val_recall: 0.8515 - val_precision: 0.6145 - 18s/epoch - 819ms/step\n",
            "Epoch 50/100\n",
            "22/22 - 18s - loss: 0.3740 - accuracy: 0.9104 - recall: 0.8063 - precision: 0.7855 - val_loss: 0.3628 - val_accuracy: 0.9021 - val_recall: 0.7491 - val_precision: 0.7635 - 18s/epoch - 815ms/step\n",
            "Epoch 51/100\n",
            "Restoring model weights from the end of the best epoch: 41.\n",
            "22/22 - 18s - loss: 0.3721 - accuracy: 0.9107 - recall: 0.7911 - precision: 0.8138 - val_loss: 0.3516 - val_accuracy: 0.9020 - val_recall: 0.7184 - val_precision: 0.8034 - 18s/epoch - 816ms/step\n",
            "Epoch 51: early stopping\n"
          ]
        }
      ]
    },
    {
      "cell_type": "code",
      "source": [
        "results = model.evaluate(X_test, y_test)"
      ],
      "metadata": {
        "colab": {
          "base_uri": "https://localhost:8080/"
        },
        "id": "a9dFA9fUm-co",
        "outputId": "38bbbc6f-f077-4e52-c2d6-f627c8e866ef"
      },
      "execution_count": 29,
      "outputs": [
        {
          "output_type": "stream",
          "name": "stdout",
          "text": [
            "58/58 [==============================] - 4s 77ms/step - loss: 0.3442 - accuracy: 0.9037 - recall: 0.6587 - precision: 0.8713\n"
          ]
        }
      ]
    },
    {
      "cell_type": "code",
      "source": [
        "import matplotlib.pyplot as plt\n",
        "plt.style.use('ggplot')\n",
        "\n",
        "def plot_history(history, model):\n",
        "    metrics = model.metrics_names\n",
        "    plt.figure(figsize=(12, 8))\n",
        "    for n, metric in enumerate(metrics):\n",
        "        name = metric.replace(\"_\",\" \").capitalize()\n",
        "        \n",
        "        plt.subplot(3,2,n+1)\n",
        "        plt.plot(history.epoch,  history.history[metric], color='b', label='Train')\n",
        "        plt.plot(history.epoch, history.history['val_'+metric],\n",
        "             color='r', linestyle=\"--\", label='Val')\n",
        "        plt.xlabel('Epoch')\n",
        "        plt.ylabel(name)\n",
        "        plt.legend()\n",
        "    plt.show()"
      ],
      "metadata": {
        "id": "CJLv7NRTm_Yg"
      },
      "execution_count": null,
      "outputs": []
    },
    {
      "cell_type": "code",
      "source": [
        "def plot_confusion_matrix(cm, classes,\n",
        "                        normalize=False,\n",
        "                        title='Confusion matrix',\n",
        "                        cmap=plt.cm.Blues):\n",
        "    \"\"\"\n",
        "    This function prints and plots the confusion matrix.\n",
        "    Normalization can be applied by setting `normalize=True`.\n",
        "    \"\"\"\n",
        "    plt.figure()\n",
        "    plt.imshow(cm, interpolation='nearest', cmap=cmap)\n",
        "    plt.title(title)\n",
        "    plt.colorbar()\n",
        "    tick_marks = np.arange(len(classes))\n",
        "    plt.xticks(tick_marks, classes, rotation=45)\n",
        "    plt.yticks(tick_marks, classes)\n",
        "\n",
        "    if normalize:\n",
        "        cm = cm.astype('float') / cm.sum(axis=1)[:, np.newaxis]\n",
        "        print(\"Normalized confusion matrix\")\n",
        "    else:\n",
        "        print('Confusion matrix, without normalization')\n",
        "\n",
        "    print(cm)\n",
        "\n",
        "    thresh = cm.max() / 2.\n",
        "    for i, j in itertools.product(range(cm.shape[0]), range(cm.shape[1])):\n",
        "        plt.text(j, i, cm[i, j],\n",
        "            horizontalalignment=\"center\",\n",
        "            color=\"white\" if cm[i, j] > thresh else \"black\")\n",
        "\n",
        "    plt.tight_layout()\n",
        "    plt.ylabel('True label')\n",
        "    plt.xlabel('Predicted label')"
      ],
      "metadata": {
        "id": "MmHEe368nBGw"
      },
      "execution_count": null,
      "outputs": []
    },
    {
      "cell_type": "code",
      "source": [
        "plot_history(history, model)\n",
        "\n",
        "%matplotlib inline\n",
        "from sklearn.metrics import confusion_matrix\n",
        "import itertools\n",
        "import matplotlib.pyplot as plt\n",
        "\n",
        "y_pred_train=model.predict_classes(X_train)\n",
        "con_mat = tf.math.confusion_matrix(labels=y_train, predictions=y_pred_train).numpy()\n",
        "\n",
        "cm_plot_labels = ['safe','risky']\n",
        "cm = confusion_matrix(y_true=y_train, y_pred=y_pred_train)\n",
        "\n",
        "\n",
        "plot_confusion_matrix(cm=cm, classes=cm_plot_labels, title='training Confusion Matrix')\n",
        "\n",
        "\n",
        "y_pred_test=model.predict_classes(X_test)\n",
        "con_mat = tf.math.confusion_matrix(labels=y_test, predictions=y_pred_test).numpy()\n",
        "\n",
        "cm_plot_labels = ['safe','risky']\n",
        "cm = confusion_matrix(y_true=y_test, y_pred=y_pred_test)\n",
        "\n",
        "\n",
        "plot_confusion_matrix(cm=cm, classes=cm_plot_labels, title='test Confusion Matrix')"
      ],
      "metadata": {
        "id": "3pmT7YvbnD-3"
      },
      "execution_count": null,
      "outputs": []
    }
  ]
}